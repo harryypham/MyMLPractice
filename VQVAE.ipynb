{
  "nbformat": 4,
  "nbformat_minor": 0,
  "metadata": {
    "colab": {
      "provenance": [],
      "authorship_tag": "ABX9TyPOwPHi8in2PoaD17lOBJDs",
      "include_colab_link": true
    },
    "kernelspec": {
      "name": "python3",
      "display_name": "Python 3"
    },
    "language_info": {
      "name": "python"
    }
  },
  "cells": [
    {
      "cell_type": "markdown",
      "metadata": {
        "id": "view-in-github",
        "colab_type": "text"
      },
      "source": [
        "<a href=\"https://colab.research.google.com/github/harryypham/MyMLPractice/blob/main/VQVAE.ipynb\" target=\"_parent\"><img src=\"https://colab.research.google.com/assets/colab-badge.svg\" alt=\"Open In Colab\"/></a>"
      ]
    },
    {
      "cell_type": "code",
      "execution_count": 11,
      "metadata": {
        "id": "vrvrMSTBGwMv"
      },
      "outputs": [],
      "source": [
        "import numpy as np\n",
        "import matplotlib.pyplot as plt\n",
        "import torch\n",
        "import torch.nn as nn\n",
        "import torch.nn.functional as F\n",
        "import torch.optim as optim\n",
        "import torchvision.transforms as transforms\n",
        "from torch.utils.data import DataLoader\n",
        "\n",
        "%matplotlib inline"
      ]
    },
    {
      "cell_type": "code",
      "source": [],
      "metadata": {
        "id": "XO0stWo4HPHI"
      },
      "execution_count": null,
      "outputs": []
    },
    {
      "cell_type": "code",
      "source": [
        "class ResidualBlock(nn.Module):\n",
        "  def __init__(self, in_dims, hidden_dims):\n",
        "    super(ResidualBlock, self).__init__()\n",
        "    self.block = nn.Sequential(\n",
        "        nn.ReLU(),\n",
        "        nn.Conv2d(in_dims, hidden_dims, 3, 1, 1),\n",
        "        nn.ReLU(),\n",
        "        nn.Conv2d(hidden_dims, in_dims, 1)\n",
        "    )\n",
        "\n",
        "  def forward(self, x):\n",
        "    return self.block(x) + x\n",
        "\n",
        "class ResidualStack(nn.Module):\n",
        "  def __init__(self, in_dims, hidden_dims, num_layers):\n",
        "    super(ResidualStack, self).__init__()\n",
        "    self.stack = self._make_layers(in_dims, hidden_dims, num_layers)\n",
        "\n",
        "\n",
        "  def _make_layers(self, in_dims, hidden_dims, num_layers):\n",
        "    ls = []\n",
        "    for i in range(num_layers):\n",
        "      ls.append(ResidualBlock(in_dims, hidden_dims))\n",
        "\n",
        "    return nn.Sequential(*ls)\n",
        "\n",
        "  def forward(self, x):\n",
        "    return self.stack(x)\n",
        "\n",
        "class Encoder(nn.Module):\n",
        "  def __init__(self, in_dims, hidden_dims):\n",
        "    super(Encoder, self).__init__()\n",
        "    self.layer1 = nn.Sequential(\n",
        "        nn.Conv2d(in_dims, hidden_dims//2, 4, 2, 1),\n",
        "        nn.ReLU(),\n",
        "        nn.Conv2d(hidden_dims//2, hidden_dims, 4, 2, 1),\n",
        "        nn.ReLU()\n",
        "    )\n",
        "    self.layer2 = ResidualStack(hidden_dims, 256, 2)\n",
        "\n",
        "  def forward(self, x):\n",
        "    x = self.layer1(x)\n",
        "    x = self.layer2(x)\n",
        "    return x\n",
        "\n",
        "class Decoder(nn.Module):\n",
        "  def __init__(self, in_dims, out_dims):\n",
        "    super(Decoder, self).__init__()\n",
        "    self.layer1 = ResidualStack(in_dims, 256, 2)\n",
        "    self.layer2 = nn.Sequential(\n",
        "        nn.ConvTranspose2d(in_dims, 32, 4, 2, 1),\n",
        "        nn.ReLU(),\n",
        "        nn.ConvTranspose2d(32, out_dims, 4, 2, 1)\n",
        "    )\n",
        "\n",
        "  def forward(self, x):\n",
        "    x = self.layer1(x)\n",
        "    x = self.layer2(x)\n",
        "    return x\n",
        "\n"
      ],
      "metadata": {
        "id": "ARMpbdVqHYAJ"
      },
      "execution_count": 18,
      "outputs": []
    },
    {
      "cell_type": "code",
      "source": [
        "class VQEmbedding(nn.Module):\n",
        "  def __init__(self, emb_size, emb_dims):\n",
        "    self.embedding = nn.Embedding(emb_size, emb_dims)\n",
        "    self.embedding.weight.data.uniform_(-1./emb_size, 1./emb_size)\n",
        "\n",
        "  def forward(self, x):\n",
        "    permuted_x = x.permute(0, 2, 3, 1)\n",
        "    permuted_x_flatten = permuted_x.view(-1, self.embeddin)"
      ],
      "metadata": {
        "id": "NK59Cro_YLbF"
      },
      "execution_count": null,
      "outputs": []
    },
    {
      "cell_type": "code",
      "source": [
        "x = torch.rand((1, 1, 32, 32))\n",
        "encode = Encoder(1, 64)\n",
        "out = encode(x)\n",
        "print(out.shape)\n",
        "decode = Decoder(64, 3)\n",
        "out = decode(out)\n",
        "print(out.shape)"
      ],
      "metadata": {
        "colab": {
          "base_uri": "https://localhost:8080/"
        },
        "id": "x_NZUocDMo8A",
        "outputId": "22ff03a4-73b9-4648-d879-2ebef68d58c4"
      },
      "execution_count": 19,
      "outputs": [
        {
          "output_type": "stream",
          "name": "stdout",
          "text": [
            "torch.Size([1, 64, 8, 8])\n",
            "torch.Size([1, 3, 32, 32])\n"
          ]
        }
      ]
    },
    {
      "cell_type": "code",
      "source": [
        "x = torch.rand((16, 64, 8, 8))\n",
        "flat_x = x.permute(0, 2, 3, 1).reshape(-1, 64)\n",
        "print(flat_x.shape)\n",
        "#Imagine image have 64 channels and for each pixel of that image, we find the vector closest to it\n",
        "\n",
        "emb_table = nn.Embedding(512, 64)\n",
        "emb_table.weight.data.uniform_(-1, 1)\n",
        "\n",
        "distances = (\n",
        "            (flat_x ** 2).sum(1, keepdim=True)\n",
        "            - 2 * flat_x @ emb_table.weight.t()\n",
        "            + (emb_table.weight.t() ** 2).sum(0, keepdim=True)\n",
        "        )\n",
        "\n",
        "print(distances.shape)\n",
        "encoding_indices = distances.argmin(1)\n",
        "quantizied_x = F.embedding(encoding_indices, emb_table.weight)\n",
        "print(emb_table.weight.shape)\n",
        "print(quantizied_x.shape)"
      ],
      "metadata": {
        "colab": {
          "base_uri": "https://localhost:8080/"
        },
        "id": "5FNo13QzEl10",
        "outputId": "2397b641-d257-4c7e-cbf4-ac42e91ab179"
      },
      "execution_count": 39,
      "outputs": [
        {
          "output_type": "stream",
          "name": "stdout",
          "text": [
            "torch.Size([1024, 64])\n",
            "torch.Size([1024, 512])\n",
            "torch.Size([512, 64])\n",
            "torch.Size([1024, 64])\n"
          ]
        }
      ]
    }
  ]
}