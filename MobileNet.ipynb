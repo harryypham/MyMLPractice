{
  "nbformat": 4,
  "nbformat_minor": 0,
  "metadata": {
    "colab": {
      "provenance": [],
      "gpuType": "T4",
      "authorship_tag": "ABX9TyO9ldB7Phlb8z/0BOwqnHAe",
      "include_colab_link": true
    },
    "kernelspec": {
      "name": "python3",
      "display_name": "Python 3"
    },
    "language_info": {
      "name": "python"
    },
    "accelerator": "GPU"
  },
  "cells": [
    {
      "cell_type": "markdown",
      "metadata": {
        "id": "view-in-github",
        "colab_type": "text"
      },
      "source": [
        "<a href=\"https://colab.research.google.com/github/harryypham/MyMLPractice/blob/main/MobileNet.ipynb\" target=\"_parent\"><img src=\"https://colab.research.google.com/assets/colab-badge.svg\" alt=\"Open In Colab\"/></a>"
      ]
    },
    {
      "cell_type": "code",
      "execution_count": 1,
      "metadata": {
        "id": "dnHj2q6W1fLS"
      },
      "outputs": [],
      "source": [
        "import numpy as np\n",
        "import matplotlib.pyplot as plt\n",
        "import torch\n",
        "import torch.nn as nn\n",
        "import torch.nn.functional as F\n",
        "import torch.optim as optim\n",
        "import torch.utils as utils\n",
        "import torchvision\n",
        "import torchvision.transforms as transforms\n",
        "from torch.utils.data import DataLoader\n",
        "\n",
        "%matplotlib inline"
      ]
    },
    {
      "cell_type": "code",
      "source": [
        "train_transform = transforms.Compose([\n",
        "    transforms.Resize((226, 226)),\n",
        "    transforms.RandomCrop((224, 224)),\n",
        "    transforms.RandomHorizontalFlip(),\n",
        "    transforms.ToTensor(),\n",
        "    transforms.Normalize((0.4914, 0.4822, 0.4465), (0.2023, 0.1994, 0.2010))\n",
        "])\n",
        "test_transform = transforms.Compose([\n",
        "    transforms.Resize((224, 224)),\n",
        "    transforms.ToTensor(),\n",
        "    transforms.Normalize((0.4914, 0.4822, 0.4465), (0.2023, 0.1994, 0.2010))\n",
        "])\n",
        "\n",
        "trainset = torchvision.datasets.CIFAR10(root=\"/content/data/train\", train=True, download=True, transform=train_transform)\n",
        "testset = torchvision.datasets.CIFAR10(root=\"/content/data/test\", train=False, download=True, transform=test_transform)\n",
        "\n",
        "batch_size = 16\n",
        "\n",
        "\n",
        "trainloader = utils.data.DataLoader(trainset, batch_size=batch_size, num_workers=2)\n",
        "testloader = utils.data.DataLoader(testset, batch_size=batch_size, num_workers=2)\n"
      ],
      "metadata": {
        "id": "tsJU5A8225K0",
        "colab": {
          "base_uri": "https://localhost:8080/"
        },
        "outputId": "d38d9c9c-bded-4b83-b275-50aa71c04c6e"
      },
      "execution_count": 2,
      "outputs": [
        {
          "output_type": "stream",
          "name": "stdout",
          "text": [
            "Files already downloaded and verified\n",
            "Files already downloaded and verified\n"
          ]
        }
      ]
    },
    {
      "cell_type": "code",
      "source": [
        "# class ConvBlock(nn.Module):\n",
        "#   def __init__(self, in_chans, out_chans, kernel_size, stride=1, padding=1):\n",
        "#     super().__init__()\n",
        "#     self.block = nn.Sequential(\n",
        "#         nn.Conv2d(in_chans, out_chans, kernel_size, stride, padding),\n",
        "#         nn.BatchNorm2d(out_chans),\n",
        "#         nn.ReLU()\n",
        "#     )\n",
        "\n",
        "#   def forward(self, x):\n",
        "#     return self.block(x)\n",
        "\n",
        "class DepthwiseSeperableBlock(nn.Module):\n",
        "  def __init__(self, in_chans, out_chans, stride, padding=1):\n",
        "    super().__init__()\n",
        "    self.block = nn.Sequential(\n",
        "        nn.Conv2d(in_chans, in_chans, kernel_size=3, stride=stride, padding=padding, bias=False),\n",
        "        nn.BatchNorm2d(in_chans),\n",
        "        nn.ReLU(inplace=True),\n",
        "        nn.Conv2d(in_chans, out_chans, kernel_size=1, stride=1, padding=0, bias=False),\n",
        "        nn.BatchNorm2d(out_chans),\n",
        "        nn.ReLU(inplace=True)\n",
        "    )\n",
        "\n",
        "  def forward(self, x):\n",
        "    return self.block(x)\n",
        "\n",
        "\n",
        "class MobileNet(nn.Module):\n",
        "  def __init__(self):\n",
        "    super(MobileNet, self).__init__()\n",
        "    self.conv1 = nn.Sequential(\n",
        "        nn.Conv2d(3, 32, kernel_size=3, padding=1, stride=2, bias=False),\n",
        "        nn.BatchNorm2d(32),\n",
        "        nn.ReLU(inplace=True)\n",
        "    )\n",
        "    self.layers = self._make_layers(32)\n",
        "    self.avgpool = nn.AdaptiveAvgPool2d(1)\n",
        "    self.fc = nn.Linear(1024, 10)\n",
        "\n",
        "\n",
        "  def _make_layers(self, in_chans):\n",
        "    layers = []\n",
        "    curr_chans = in_chans\n",
        "\n",
        "    layers.append(DepthwiseSeperableBlock(curr_chans, curr_chans*2, 1))\n",
        "    curr_chans *= 2\n",
        "    layers.append(DepthwiseSeperableBlock(curr_chans, curr_chans*2, 2))\n",
        "    curr_chans *= 2\n",
        "\n",
        "    for i in range(2):\n",
        "      layers.append(DepthwiseSeperableBlock(curr_chans, curr_chans, 1))\n",
        "      layers.append(DepthwiseSeperableBlock(curr_chans, curr_chans*2, 2))\n",
        "      curr_chans *= 2\n",
        "\n",
        "    for i in range(5):\n",
        "      print(curr_chans)\n",
        "      layers.append(DepthwiseSeperableBlock(curr_chans, curr_chans, 1))\n",
        "\n",
        "    layers.append(DepthwiseSeperableBlock(curr_chans, curr_chans*2, 2))\n",
        "    curr_chans *= 2\n",
        "    layers.append(DepthwiseSeperableBlock(curr_chans, curr_chans, 1))\n",
        "\n",
        "\n",
        "    return nn.Sequential(*layers)\n",
        "\n",
        "  def forward(self, x):\n",
        "    out = self.conv1(x)\n",
        "    out = self.layers(out)\n",
        "\n",
        "    out = self.avgpool(out)\n",
        "    out = out.view(out.size(0), -1)\n",
        "    out = self.fc(out)\n",
        "    return out"
      ],
      "metadata": {
        "id": "rRMHITbtLWnm"
      },
      "execution_count": 28,
      "outputs": []
    },
    {
      "cell_type": "code",
      "source": [
        "class MobileNetV1(nn.Module):\n",
        "    def __init__(self, ch_in, n_classes):\n",
        "        super(MobileNetV1, self).__init__()\n",
        "\n",
        "        def conv_bn(inp, oup, stride):\n",
        "            return nn.Sequential(\n",
        "                nn.Conv2d(inp, oup, 3, stride, 1, bias=False),\n",
        "                nn.BatchNorm2d(oup),\n",
        "                nn.ReLU(inplace=True)\n",
        "                )\n",
        "\n",
        "        def conv_dw(inp, oup, stride):\n",
        "            return nn.Sequential(\n",
        "                # dw\n",
        "                nn.Conv2d(inp, inp, 3, stride, 1, groups=inp, bias=False),\n",
        "                nn.BatchNorm2d(inp),\n",
        "                nn.ReLU(inplace=True),\n",
        "\n",
        "                # pw\n",
        "                nn.Conv2d(inp, oup, 1, 1, 0, bias=False),\n",
        "                nn.BatchNorm2d(oup),\n",
        "                nn.ReLU(inplace=True),\n",
        "                )\n",
        "\n",
        "        self.model = nn.Sequential(\n",
        "            conv_bn(ch_in, 32, 2),\n",
        "            conv_dw(32, 64, 1),\n",
        "            conv_dw(64, 128, 2),\n",
        "            conv_dw(128, 128, 1),\n",
        "            conv_dw(128, 256, 2),\n",
        "            conv_dw(256, 256, 1),\n",
        "            conv_dw(256, 512, 2),\n",
        "            conv_dw(512, 512, 1),\n",
        "            conv_dw(512, 512, 1),\n",
        "            conv_dw(512, 512, 1),\n",
        "            conv_dw(512, 512, 1),\n",
        "            conv_dw(512, 512, 1),\n",
        "            conv_dw(512, 1024, 2),\n",
        "            conv_dw(1024, 1024, 1),\n",
        "            nn.AdaptiveAvgPool2d(1)\n",
        "        )\n",
        "        self.fc = nn.Linear(1024, n_classes)\n",
        "\n",
        "    def forward(self, x):\n",
        "        x = self.model(x)\n",
        "        x = x.view(-1, 1024)\n",
        "        x = self.fc(x)\n",
        "        return x"
      ],
      "metadata": {
        "id": "lPJ7usjGe7bg"
      },
      "execution_count": 15,
      "outputs": []
    },
    {
      "cell_type": "code",
      "source": [
        "model = MobileNet()\n",
        "print(model)"
      ],
      "metadata": {
        "id": "UkUaSHllXytn"
      },
      "execution_count": null,
      "outputs": []
    },
    {
      "cell_type": "code",
      "source": [
        "device = \"cuda:0\" if torch.cuda.is_available() else \"cpu\"\n",
        "num_epochs = 100\n",
        "model = MobileNetV1(3, 10)\n",
        "model.to(device)\n",
        "\n",
        "criterion = nn.CrossEntropyLoss()\n",
        "optimizer = optim.SGD(model.parameters(), lr=0.01, momentum=0.9, weight_decay=5e-4)\n",
        "\n",
        "for epoch in range(num_epochs):\n",
        "  train_loss = 0\n",
        "  correct = 0\n",
        "  total = 0\n",
        "  for batch_idx, (inputs, targets) in enumerate(trainloader):\n",
        "      model.train()\n",
        "      inputs, targets = inputs.to(device), targets.to(device)\n",
        "      optimizer.zero_grad()\n",
        "      outputs = model(inputs)\n",
        "      loss = criterion(outputs, targets)\n",
        "      loss.backward()\n",
        "      optimizer.step()\n",
        "\n",
        "      with torch.no_grad():\n",
        "        train_loss += loss.item()\n",
        "        _, predict = outputs.max(1)\n",
        "        total += targets.size(0)\n",
        "        correct += predict.eq(targets).sum().item()\n",
        "\n",
        "      if (not batch_idx % 50) and batch_idx != 0:\n",
        "            print ('Batch %03d | Cost: %.6f | Train Acc: %.4f'\n",
        "                  %(batch_idx, train_loss/(batch_idx+1), 100*correct/total))"
      ],
      "metadata": {
        "colab": {
          "base_uri": "https://localhost:8080/",
          "height": 323
        },
        "id": "f8sdYRwWVCuN",
        "outputId": "2c326f7a-589a-41d3-9bfd-ce141a0fc99b"
      },
      "execution_count": 30,
      "outputs": [
        {
          "output_type": "stream",
          "name": "stdout",
          "text": [
            "Batch 050 | Cost: 2.332462 | Train Acc: 14.4608\n",
            "Batch 100 | Cost: 2.355747 | Train Acc: 17.0792\n",
            "Batch 150 | Cost: 2.311798 | Train Acc: 18.1705\n",
            "Batch 200 | Cost: 2.275413 | Train Acc: 19.2475\n",
            "Batch 250 | Cost: 2.212787 | Train Acc: 20.9661\n",
            "Batch 300 | Cost: 2.165282 | Train Acc: 22.4875\n"
          ]
        },
        {
          "output_type": "error",
          "ename": "KeyboardInterrupt",
          "evalue": "",
          "traceback": [
            "\u001b[0;31m---------------------------------------------------------------------------\u001b[0m",
            "\u001b[0;31mKeyboardInterrupt\u001b[0m                         Traceback (most recent call last)",
            "\u001b[0;32m<ipython-input-30-53955364c32f>\u001b[0m in \u001b[0;36m<cell line: 9>\u001b[0;34m()\u001b[0m\n\u001b[1;32m     13\u001b[0m   \u001b[0;32mfor\u001b[0m \u001b[0mbatch_idx\u001b[0m\u001b[0;34m,\u001b[0m \u001b[0;34m(\u001b[0m\u001b[0minputs\u001b[0m\u001b[0;34m,\u001b[0m \u001b[0mtargets\u001b[0m\u001b[0;34m)\u001b[0m \u001b[0;32min\u001b[0m \u001b[0menumerate\u001b[0m\u001b[0;34m(\u001b[0m\u001b[0mtrainloader\u001b[0m\u001b[0;34m)\u001b[0m\u001b[0;34m:\u001b[0m\u001b[0;34m\u001b[0m\u001b[0;34m\u001b[0m\u001b[0m\n\u001b[1;32m     14\u001b[0m       \u001b[0mmodel\u001b[0m\u001b[0;34m.\u001b[0m\u001b[0mtrain\u001b[0m\u001b[0;34m(\u001b[0m\u001b[0;34m)\u001b[0m\u001b[0;34m\u001b[0m\u001b[0;34m\u001b[0m\u001b[0m\n\u001b[0;32m---> 15\u001b[0;31m       \u001b[0minputs\u001b[0m\u001b[0;34m,\u001b[0m \u001b[0mtargets\u001b[0m \u001b[0;34m=\u001b[0m \u001b[0minputs\u001b[0m\u001b[0;34m.\u001b[0m\u001b[0mto\u001b[0m\u001b[0;34m(\u001b[0m\u001b[0mdevice\u001b[0m\u001b[0;34m)\u001b[0m\u001b[0;34m,\u001b[0m \u001b[0mtargets\u001b[0m\u001b[0;34m.\u001b[0m\u001b[0mto\u001b[0m\u001b[0;34m(\u001b[0m\u001b[0mdevice\u001b[0m\u001b[0;34m)\u001b[0m\u001b[0;34m\u001b[0m\u001b[0;34m\u001b[0m\u001b[0m\n\u001b[0m\u001b[1;32m     16\u001b[0m       \u001b[0moptimizer\u001b[0m\u001b[0;34m.\u001b[0m\u001b[0mzero_grad\u001b[0m\u001b[0;34m(\u001b[0m\u001b[0;34m)\u001b[0m\u001b[0;34m\u001b[0m\u001b[0;34m\u001b[0m\u001b[0m\n\u001b[1;32m     17\u001b[0m       \u001b[0moutputs\u001b[0m \u001b[0;34m=\u001b[0m \u001b[0mmodel\u001b[0m\u001b[0;34m(\u001b[0m\u001b[0minputs\u001b[0m\u001b[0;34m)\u001b[0m\u001b[0;34m\u001b[0m\u001b[0;34m\u001b[0m\u001b[0m\n",
            "\u001b[0;31mKeyboardInterrupt\u001b[0m: "
          ]
        }
      ]
    },
    {
      "cell_type": "code",
      "source": [],
      "metadata": {
        "id": "W-u5DXaqbn2_"
      },
      "execution_count": null,
      "outputs": []
    }
  ]
}