{
  "nbformat": 4,
  "nbformat_minor": 0,
  "metadata": {
    "colab": {
      "provenance": [],
      "gpuType": "T4",
      "authorship_tag": "ABX9TyP4iziwfaCGW/rB4ACixPAC",
      "include_colab_link": true
    },
    "kernelspec": {
      "name": "python3",
      "display_name": "Python 3"
    },
    "language_info": {
      "name": "python"
    },
    "accelerator": "GPU"
  },
  "cells": [
    {
      "cell_type": "markdown",
      "metadata": {
        "id": "view-in-github",
        "colab_type": "text"
      },
      "source": [
        "<a href=\"https://colab.research.google.com/github/harryypham/MyMLPractice/blob/main/MobileNet.ipynb\" target=\"_parent\"><img src=\"https://colab.research.google.com/assets/colab-badge.svg\" alt=\"Open In Colab\"/></a>"
      ]
    },
    {
      "cell_type": "code",
      "execution_count": 1,
      "metadata": {
        "id": "dnHj2q6W1fLS"
      },
      "outputs": [],
      "source": [
        "import numpy as np\n",
        "import matplotlib.pyplot as plt\n",
        "import torch\n",
        "import torch.nn as nn\n",
        "import torch.nn.functional as F\n",
        "import torch.optim as optim\n",
        "import torch.utils as utils\n",
        "import torchvision\n",
        "import torchvision.transforms as transforms\n",
        "from torch.utils.data import DataLoader\n",
        "\n",
        "%matplotlib inline"
      ]
    },
    {
      "cell_type": "code",
      "source": [
        "train_transform = transforms.Compose([\n",
        "    transforms.Resize((226, 226)),\n",
        "    transforms.RandomCrop((224, 224)),\n",
        "    transforms.RandomHorizontalFlip(),\n",
        "    transforms.ToTensor(),\n",
        "    transforms.Normalize((0.4914, 0.4822, 0.4465), (0.2023, 0.1994, 0.2010))\n",
        "])\n",
        "test_transform = transforms.Compose([\n",
        "    transforms.Resize((224, 224)),\n",
        "    transforms.ToTensor(),\n",
        "    transforms.Normalize((0.4914, 0.4822, 0.4465), (0.2023, 0.1994, 0.2010))\n",
        "])\n",
        "\n",
        "trainset = torchvision.datasets.CIFAR10(root=\"/content/data/train\", train=True, download=True, transform=train_transform)\n",
        "testset = torchvision.datasets.CIFAR10(root=\"/content/data/test\", train=False, download=True, transform=test_transform)\n",
        "\n",
        "batch_size = 32\n",
        "\n",
        "\n",
        "trainloader = utils.data.DataLoader(trainset, batch_size=batch_size, num_workers=2)\n",
        "testloader = utils.data.DataLoader(testset, batch_size=batch_size, num_workers=2)\n"
      ],
      "metadata": {
        "id": "tsJU5A8225K0",
        "colab": {
          "base_uri": "https://localhost:8080/"
        },
        "outputId": "cc79accf-9661-4ee8-839c-018004671fd6"
      },
      "execution_count": 2,
      "outputs": [
        {
          "output_type": "stream",
          "name": "stdout",
          "text": [
            "Downloading https://www.cs.toronto.edu/~kriz/cifar-10-python.tar.gz to /content/data/train/cifar-10-python.tar.gz\n"
          ]
        },
        {
          "output_type": "stream",
          "name": "stderr",
          "text": [
            "100%|██████████| 170498071/170498071 [00:03<00:00, 43529450.08it/s]\n"
          ]
        },
        {
          "output_type": "stream",
          "name": "stdout",
          "text": [
            "Extracting /content/data/train/cifar-10-python.tar.gz to /content/data/train\n",
            "Downloading https://www.cs.toronto.edu/~kriz/cifar-10-python.tar.gz to /content/data/test/cifar-10-python.tar.gz\n"
          ]
        },
        {
          "output_type": "stream",
          "name": "stderr",
          "text": [
            "100%|██████████| 170498071/170498071 [00:04<00:00, 41006395.47it/s]\n"
          ]
        },
        {
          "output_type": "stream",
          "name": "stdout",
          "text": [
            "Extracting /content/data/test/cifar-10-python.tar.gz to /content/data/test\n"
          ]
        }
      ]
    },
    {
      "cell_type": "code",
      "source": [
        "# class ConvBlock(nn.Module):\n",
        "#   def __init__(self, in_chans, out_chans, kernel_size, stride=1, padding=1):\n",
        "#     super().__init__()\n",
        "#     self.block = nn.Sequential(\n",
        "#         nn.Conv2d(in_chans, out_chans, kernel_size, stride, padding),\n",
        "#         nn.BatchNorm2d(out_chans),\n",
        "#         nn.ReLU()\n",
        "#     )\n",
        "\n",
        "#   def forward(self, x):\n",
        "#     return self.block(x)\n",
        "\n",
        "class DepthwiseSeperableBlock(nn.Module):\n",
        "  def __init__(self, in_chans, out_chans, stride, padding=1):\n",
        "    super().__init__()\n",
        "    self.block = nn.Sequential(\n",
        "        nn.Conv2d(in_chans, in_chans, kernel_size=3, stride=stride, padding=padding, groups=in_chans, bias=False),\n",
        "        nn.BatchNorm2d(in_chans),\n",
        "        nn.ReLU(inplace=True),\n",
        "\n",
        "        nn.Conv2d(in_chans, out_chans, kernel_size=1, stride=1, padding=0, bias=False),\n",
        "        nn.BatchNorm2d(out_chans),\n",
        "        nn.ReLU(inplace=True)\n",
        "    )\n",
        "\n",
        "  def forward(self, x):\n",
        "    return self.block(x)\n",
        "\n",
        "\n",
        "class MobileNet(nn.Module):\n",
        "  layer_params = [64, (128,2), 128, (256,2), 256, (512,2), 512, 512, 512, 512, 512, (1024,2), 1024]\n",
        "\n",
        "  def __init__(self):\n",
        "    super(MobileNet, self).__init__()\n",
        "    self.conv1 = nn.Sequential(\n",
        "        nn.Conv2d(3, 32, kernel_size=3, padding=1, stride=2),\n",
        "        nn.BatchNorm2d(32),\n",
        "        nn.ReLU(inplace=True)\n",
        "    )\n",
        "    self.layers = self._make_layers()\n",
        "    self.avgpool = nn.AdaptiveAvgPool2d(1)\n",
        "    self.fc = nn.Linear(1024, 10)\n",
        "\n",
        "\n",
        "  def _make_layers(self):\n",
        "    layers = []\n",
        "    in_chans = 32\n",
        "    for layer in self.layer_params:\n",
        "      out_chans = layer if isinstance(layer, int) else layer[0]\n",
        "      stride = 1 if isinstance(layer, int) else layer[1]\n",
        "      layers.append(DepthwiseSeperableBlock(in_chans, out_chans, stride))\n",
        "      in_chans = out_chans\n",
        "\n",
        "    return nn.Sequential(*layers)\n",
        "\n",
        "\n",
        "  def forward(self, x):\n",
        "    out = self.conv1(x)\n",
        "    out = self.layers(out)\n",
        "    out = self.avgpool(out)\n",
        "    out = out.view(out.size(0), -1)\n",
        "    out = self.fc(out)\n",
        "    return out"
      ],
      "metadata": {
        "id": "rRMHITbtLWnm"
      },
      "execution_count": 22,
      "outputs": []
    },
    {
      "cell_type": "code",
      "source": [
        "class Block(nn.Module):\n",
        "    '''expand + depthwise + pointwise'''\n",
        "    def __init__(self, in_planes, out_planes, expansion, stride):\n",
        "        super(Block, self).__init__()\n",
        "        self.stride = stride\n",
        "\n",
        "        planes = expansion * in_planes\n",
        "        self.conv1 = nn.Conv2d(in_planes, planes, kernel_size=1, stride=1, padding=0, bias=False)\n",
        "        self.bn1 = nn.BatchNorm2d(planes)\n",
        "        self.conv2 = nn.Conv2d(planes, planes, kernel_size=3, stride=stride, padding=1, groups=planes, bias=False)\n",
        "        self.bn2 = nn.BatchNorm2d(planes)\n",
        "        self.conv3 = nn.Conv2d(planes, out_planes, kernel_size=1, stride=1, padding=0, bias=False)\n",
        "        self.bn3 = nn.BatchNorm2d(out_planes)\n",
        "\n",
        "        self.shortcut = nn.Sequential()\n",
        "        if stride == 1 and in_planes != out_planes:\n",
        "            self.shortcut = nn.Sequential(\n",
        "                nn.Conv2d(in_planes, out_planes, kernel_size=1, stride=1, padding=0, bias=False),\n",
        "                nn.BatchNorm2d(out_planes),\n",
        "            )\n",
        "\n",
        "    def forward(self, x):\n",
        "        out = F.relu(self.bn1(self.conv1(x)))\n",
        "        out = F.relu(self.bn2(self.conv2(out)))\n",
        "        out = self.bn3(self.conv3(out))\n",
        "        out = out + self.shortcut(x) if self.stride==1 else out\n",
        "        return out\n",
        "\n",
        "\n",
        "class MobileNetV2(nn.Module):\n",
        "    # (expansion, out_planes, num_blocks, stride)\n",
        "    cfg = [(1,  16, 1, 1),\n",
        "           (6,  24, 2, 1),  # NOTE: change stride 2 -> 1 for CIFAR10\n",
        "           (6,  32, 3, 2),\n",
        "           (6,  64, 4, 2),\n",
        "           (6,  96, 3, 1),\n",
        "           (6, 160, 3, 2),\n",
        "           (6, 320, 1, 1)]\n",
        "\n",
        "    def __init__(self, num_classes=10):\n",
        "        super(MobileNetV2, self).__init__()\n",
        "        # NOTE: change conv1 stride 2 -> 1 for CIFAR10\n",
        "        self.conv1 = nn.Conv2d(3, 32, kernel_size=3, stride=1, padding=1, bias=False)\n",
        "        self.bn1 = nn.BatchNorm2d(32)\n",
        "        self.layers = self._make_layers(in_planes=32)\n",
        "        self.conv2 = nn.Conv2d(320, 1280, kernel_size=1, stride=1, padding=0, bias=False)\n",
        "        self.bn2 = nn.BatchNorm2d(1280)\n",
        "        self.linear = nn.Linear(1280, num_classes)\n",
        "\n",
        "    def _make_layers(self, in_planes):\n",
        "        layers = []\n",
        "        for expansion, out_planes, num_blocks, stride in self.cfg:\n",
        "            strides = [stride] + [1]*(num_blocks-1)\n",
        "            for stride in strides:\n",
        "                layers.append(Block(in_planes, out_planes, expansion, stride))\n",
        "                in_planes = out_planes\n",
        "        return nn.Sequential(*layers)\n",
        "\n",
        "    def forward(self, x):\n",
        "        out = F.relu(self.bn1(self.conv1(x)))\n",
        "        out = self.layers(out)\n",
        "        out = F.relu(self.bn2(self.conv2(out)))\n",
        "        # NOTE: change pooling kernel_size 7 -> 4 for CIFAR10\n",
        "        out = F.avg_pool2d(out, 4)\n",
        "        out = out.view(out.size(0), -1)\n",
        "        out = self.linear(out)\n",
        "        return out"
      ],
      "metadata": {
        "id": "QACiC2L_QSWu"
      },
      "execution_count": 26,
      "outputs": []
    },
    {
      "cell_type": "code",
      "source": [
        "model = MobileNetV2()\n",
        "total_params = sum(p.numel() for p in model.parameters())\n",
        "print(total_params)"
      ],
      "metadata": {
        "id": "UkUaSHllXytn",
        "colab": {
          "base_uri": "https://localhost:8080/"
        },
        "outputId": "1e6f0ff6-168d-4618-b68a-283a3ab18731"
      },
      "execution_count": 27,
      "outputs": [
        {
          "output_type": "stream",
          "name": "stdout",
          "text": [
            "2296922\n"
          ]
        }
      ]
    },
    {
      "cell_type": "code",
      "source": [
        "device = \"cuda:0\" if torch.cuda.is_available() else \"cpu\"\n",
        "num_epochs = 100\n",
        "model = MobileNet()\n",
        "model.to(device)\n",
        "\n",
        "criterion = nn.CrossEntropyLoss()\n",
        "optimizer = optim.Adam(model.parameters(), lr=0.001, weight_decay=5e-4)\n",
        "\n",
        "for epoch in range(num_epochs):\n",
        "  train_loss = 0\n",
        "  correct = 0\n",
        "  total = 0\n",
        "  print(f\"Epoch {epoch+1}:\")\n",
        "  for batch_idx, (inputs, targets) in enumerate(trainloader):\n",
        "      model.train()\n",
        "      inputs, targets = inputs.to(device), targets.to(device)\n",
        "      optimizer.zero_grad()\n",
        "      outputs = model(inputs)\n",
        "      loss = criterion(outputs, targets)\n",
        "      loss.backward()\n",
        "\n",
        "      nn.utils.clip_grad_value_(model.parameters(), 0.1)\n",
        "\n",
        "      optimizer.step()\n",
        "\n",
        "      if epoch == 3 and (epoch+1)*batch_idx == 6000:\n",
        "        print(\"Learning rate adjust ...\")\n",
        "        for param in optim.param_groups:\n",
        "          param['lr'] = 0.0001\n",
        "\n",
        "      with torch.no_grad():\n",
        "        train_loss += loss.item()\n",
        "        _, predict = outputs.max(1)\n",
        "        total += targets.size(0)\n",
        "        correct += predict.eq(targets).sum().item()\n",
        "\n",
        "      if (not batch_idx % 100) and batch_idx != 0:\n",
        "            print ('Batch %03d | Cost: %.6f | Train Acc: %.4f'\n",
        "                  %(batch_idx, train_loss/(batch_idx+1), 100*correct/total))\n",
        "  #43.5, 45.4, 52.4 (65-ish),"
      ],
      "metadata": {
        "id": "f8sdYRwWVCuN"
      },
      "execution_count": null,
      "outputs": []
    },
    {
      "cell_type": "code",
      "source": [
        "def compute_accuracy_test(model, dataloader, device):\n",
        "    \"\"\"\n",
        "    Compute accuracy on test set\n",
        "    \"\"\"\n",
        "    correct, total = 0, 0\n",
        "    for inputs, targets in dataloader:\n",
        "        inputs = inputs.to(device)\n",
        "        targets = targets.to(device)\n",
        "        outputs = model(inputs)\n",
        "        _, predict = outputs.max(1)\n",
        "\n",
        "        total += targets.size(0)\n",
        "        correct += predict.eq(targets).sum().item()\n",
        "\n",
        "    return correct/total * 100\n",
        "\n",
        "\n",
        "print(compute_accuracy_test(model, testloader, device))"
      ],
      "metadata": {
        "id": "W-u5DXaqbn2_"
      },
      "execution_count": null,
      "outputs": []
    }
  ]
}