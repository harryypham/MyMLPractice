{
  "nbformat": 4,
  "nbformat_minor": 0,
  "metadata": {
    "colab": {
      "provenance": [],
      "machine_shape": "hm",
      "gpuType": "L4",
      "authorship_tag": "ABX9TyONYs61XYRZWjyAPksSPBK5",
      "include_colab_link": true
    },
    "kernelspec": {
      "name": "python3",
      "display_name": "Python 3"
    },
    "language_info": {
      "name": "python"
    },
    "accelerator": "GPU"
  },
  "cells": [
    {
      "cell_type": "markdown",
      "metadata": {
        "id": "view-in-github",
        "colab_type": "text"
      },
      "source": [
        "<a href=\"https://colab.research.google.com/github/harryypham/MyMLPractice/blob/main/nlp/RNN_Pytorch.ipynb\" target=\"_parent\"><img src=\"https://colab.research.google.com/assets/colab-badge.svg\" alt=\"Open In Colab\"/></a>"
      ]
    },
    {
      "cell_type": "code",
      "execution_count": 1,
      "metadata": {
        "id": "vvMEolM6eUeg"
      },
      "outputs": [],
      "source": [
        "from tqdm import tqdm\n",
        "import torch\n",
        "import torch.nn as nn\n",
        "import torch.nn.functional as F\n",
        "import torch.optim as optim\n",
        "import torchvision\n",
        "import torchvision.transforms as transforms\n",
        "from torchvision import datasets\n",
        "from torch.utils.data import DataLoader\n"
      ]
    },
    {
      "cell_type": "code",
      "source": [
        "device = \"cuda\" if torch.cuda.is_available() else \"cpu\"\n",
        "input_size = 28\n",
        "sequence_length = 28\n",
        "num_layers = 2\n",
        "hidden_size = 256\n",
        "num_classes = 10\n",
        "batch_size = 64\n",
        "lr = 3e-4\n",
        "num_epochs = 5"
      ],
      "metadata": {
        "id": "E_-rNedT95AG"
      },
      "execution_count": 2,
      "outputs": []
    },
    {
      "cell_type": "code",
      "source": [
        "train_set = datasets.MNIST(root=\"data\", train=True, download=True, transform=transforms.ToTensor())\n",
        "test_set = datasets.MNIST(root=\"data\", train=False, download=True, transform=transforms.ToTensor())\n",
        "\n",
        "train_loader = DataLoader(train_set, batch_size=batch_size, shuffle=True)\n",
        "test_loader = DataLoader(test_set, batch_size=batch_size, shuffle=True)"
      ],
      "metadata": {
        "id": "5BQpzE-8-NNp"
      },
      "execution_count": 3,
      "outputs": []
    },
    {
      "cell_type": "code",
      "source": [
        "class RNN(nn.Module):\n",
        "  def __init__(self, input_size, sequence_length, hidden_size, num_layers, num_classes):\n",
        "    super().__init__()\n",
        "    self.hidden_size = hidden_size\n",
        "    self.num_layers = num_layers\n",
        "    self.rnn = nn.RNN(input_size, hidden_size, num_layers, batch_first=True)\n",
        "    self.fc = nn.Linear(hidden_size * sequence_length, num_classes)\n",
        "\n",
        "  def forward(self, x):\n",
        "    h0 = torch.zeros(self.num_layers, x.size(0), self.hidden_size).to(device)\n",
        "\n",
        "    out, _ = self.rnn(x, h0)\n",
        "    out = out.reshape(out.shape[0], -1)\n",
        "    out = self.fc(out)\n",
        "\n",
        "    return out\n"
      ],
      "metadata": {
        "id": "cSafRd0mBo_g"
      },
      "execution_count": 4,
      "outputs": []
    },
    {
      "cell_type": "code",
      "source": [
        "def train(model, criterion, optimizer, data_loader, num_epochs, device):\n",
        "  model.train()\n",
        "  losses = []\n",
        "  for epoch in range(1, num_epochs+1):\n",
        "    print(f\"Epoch {epoch}: \")\n",
        "    pbar = tqdm(data_loader, leave=True)\n",
        "    for batch_idx, (input, target) in enumerate(pbar):\n",
        "      input = input.to(device).squeeze(1)\n",
        "      target = target.to(device)\n",
        "\n",
        "      output = model(input)\n",
        "\n",
        "      loss = criterion(output, target)\n",
        "      losses.append(loss.item())\n",
        "      optimizer.zero_grad()\n",
        "      loss.backward()\n",
        "\n",
        "      optimizer.step()\n",
        "\n",
        "      pbar.set_postfix({\"Loss\": round(sum(losses)/len(losses), 4)})\n",
        "\n",
        "@torch.no_grad()\n",
        "def check_accuracy(model, data_loader, device):\n",
        "  correct = total = 0\n",
        "\n",
        "  model.eval()\n",
        "  for input, target in data_loader:\n",
        "    input = input.to(device).squeeze(1)\n",
        "    target = target.to(device)\n",
        "\n",
        "    output = model(input)\n",
        "\n",
        "    _, preds = output.max(1)\n",
        "    correct += (preds == target).sum()\n",
        "    total += target.size(0)\n",
        "\n",
        "  print(f\"Accuracy: {correct/total*100:.2f}\")\n",
        "  model.train()\n"
      ],
      "metadata": {
        "id": "user1Tfv-tbf"
      },
      "execution_count": 5,
      "outputs": []
    },
    {
      "cell_type": "code",
      "source": [
        "model = RNN(input_size, sequence_length, hidden_size, num_layers, num_classes).to(device)\n",
        "criterion = nn.CrossEntropyLoss()\n",
        "optimizer = optim.Adam(model.parameters(), lr=lr)\n",
        "\n",
        "train(model, criterion, optimizer, train_loader, num_epochs, device)"
      ],
      "metadata": {
        "colab": {
          "base_uri": "https://localhost:8080/"
        },
        "id": "xjnnnV9mDEOU",
        "outputId": "3f6cc37c-5aba-4280-81e9-f3cfe145a86c"
      },
      "execution_count": 6,
      "outputs": [
        {
          "output_type": "stream",
          "name": "stdout",
          "text": [
            "Epoch 1: \n"
          ]
        },
        {
          "output_type": "stream",
          "name": "stderr",
          "text": [
            "100%|██████████| 938/938 [00:10<00:00, 89.45it/s, Loss=0.312]\n"
          ]
        },
        {
          "output_type": "stream",
          "name": "stdout",
          "text": [
            "Epoch 2: \n"
          ]
        },
        {
          "output_type": "stream",
          "name": "stderr",
          "text": [
            "100%|██████████| 938/938 [00:10<00:00, 92.99it/s, Loss=0.222]\n"
          ]
        },
        {
          "output_type": "stream",
          "name": "stdout",
          "text": [
            "Epoch 3: \n"
          ]
        },
        {
          "output_type": "stream",
          "name": "stderr",
          "text": [
            "100%|██████████| 938/938 [00:10<00:00, 92.60it/s, Loss=0.178]\n"
          ]
        },
        {
          "output_type": "stream",
          "name": "stdout",
          "text": [
            "Epoch 4: \n"
          ]
        },
        {
          "output_type": "stream",
          "name": "stderr",
          "text": [
            "100%|██████████| 938/938 [00:09<00:00, 93.94it/s, Loss=0.152]\n"
          ]
        },
        {
          "output_type": "stream",
          "name": "stdout",
          "text": [
            "Epoch 5: \n"
          ]
        },
        {
          "output_type": "stream",
          "name": "stderr",
          "text": [
            "100%|██████████| 938/938 [00:09<00:00, 94.01it/s, Loss=0.134]\n"
          ]
        }
      ]
    },
    {
      "cell_type": "code",
      "source": [
        "check_accuracy(model, test_loader, device)"
      ],
      "metadata": {
        "colab": {
          "base_uri": "https://localhost:8080/"
        },
        "id": "o0Jsb6sbIP-y",
        "outputId": "303f9624-0bd3-47cc-d81d-945bbf97b89f"
      },
      "execution_count": 7,
      "outputs": [
        {
          "output_type": "stream",
          "name": "stdout",
          "text": [
            "Accuracy: 98.14\n"
          ]
        }
      ]
    },
    {
      "cell_type": "code",
      "source": [],
      "metadata": {
        "id": "GlIuLyvJKAQl"
      },
      "execution_count": null,
      "outputs": []
    }
  ]
}