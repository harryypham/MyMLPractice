{
  "nbformat": 4,
  "nbformat_minor": 0,
  "metadata": {
    "colab": {
      "provenance": [],
      "authorship_tag": "ABX9TyPSfQmoqQsgEz+hqy5KINlJ",
      "include_colab_link": true
    },
    "kernelspec": {
      "name": "python3",
      "display_name": "Python 3"
    },
    "language_info": {
      "name": "python"
    }
  },
  "cells": [
    {
      "cell_type": "markdown",
      "metadata": {
        "id": "view-in-github",
        "colab_type": "text"
      },
      "source": [
        "<a href=\"https://colab.research.google.com/github/harryypham/MyMLPractice/blob/main/UNet.ipynb\" target=\"_parent\"><img src=\"https://colab.research.google.com/assets/colab-badge.svg\" alt=\"Open In Colab\"/></a>"
      ]
    },
    {
      "cell_type": "code",
      "execution_count": null,
      "metadata": {
        "id": "trQ2xcoHU5n9"
      },
      "outputs": [],
      "source": [
        "import numpy as np\n",
        "import torch\n",
        "import torch.nn\n",
        "import torch.nn.functional as F\n",
        "import torch.optim as optim\n",
        "import torchvision\n",
        "import torchvision.transforms as transforms\n",
        "from torch.utils import DataLoader\n",
        "\n"
      ]
    },
    {
      "cell_type": "code",
      "source": [],
      "metadata": {
        "id": "sL6dgT4_WzmR"
      },
      "execution_count": null,
      "outputs": []
    },
    {
      "cell_type": "code",
      "source": [
        "class DoubleConv(nn.Module):\n",
        "  def __init__(self, in_chans, out_chans, hidden_chans=None):\n",
        "    super(DownBlock, self).__init__()\n",
        "    if not hidden_chans:\n",
        "      hidden_chans = (in_chans + out_chans) // 2\n",
        "    self.conv = nn.Sequential(\n",
        "        nn.Conv2d(in_chans, hidden_chans, 3, 1),\n",
        "        nn.BatchNorm2d(hidden_chans),\n",
        "        nn.ReLU(True),\n",
        "        nn.Conv2d(hidden_chans, out_chans, 3, 1),\n",
        "        nn.BatchNorm2d(out_chans),\n",
        "        nn.ReLU(True)\n",
        "    )\n",
        "\n",
        "  def forward(self, x):\n",
        "    out = self.conv(x)\n",
        "    return out\n",
        "\n",
        "class DownBlock(nn.Module):\n",
        "  def __init__(self, in_chans, out_chans):\n",
        "    super(DownBlock, self).__init__()\n",
        "    if not hidden_chans:\n",
        "      hidden_chans = (in_chans + out_chans) // 2\n",
        "    self.conv = DoubleConv(in_chans, out_chans)\n",
        "    self.down = nn.MaxPool2d(2, 2)\n",
        "\n",
        "  def forward(self, x):\n",
        "    out = self.conv(x)\n",
        "    out = self.down(out)\n",
        "    return out\n",
        "\n",
        "\n",
        "class UpBlock(nn.Module):\n",
        "  def __init__(self, in_chans, out_chans, bilinear=True):\n",
        "    super(UpBlock, self).__init__()\n",
        "    if bilinear:\n",
        "      self.up = nn.Upsample(scale_factor=2, mode=\"bilinear\", align_corners=True)\n",
        "    else:\n",
        "      self.up = nn.ConvTranspose2d(in_chans, in_chans//2, 2, 2)\n",
        "    self.conv = DoubleConv(in_chans, out_chans)\n",
        "\n",
        "\n",
        "  def forward(self, x1, x2):\n",
        "    x1 = self.up(x1)\n",
        "    diffY = x2.size()[2] - x1.size()[2]\n",
        "    diffX = x2.size()[3] - x1.size()[3]\n",
        "\n",
        "    x1 = F.pad(x1, [diffX // 2, diffX - diffX // 2, diffY // 2, diffY - diffY // 2]) #pad 0\n",
        "    x = torch.cat([x2, x1], dim=1)\n",
        "    return self.conv(x)\n"
      ],
      "metadata": {
        "id": "NoO5tbQvW0Vb"
      },
      "execution_count": null,
      "outputs": []
    }
  ]
}