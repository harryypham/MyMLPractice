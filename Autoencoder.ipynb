{
  "nbformat": 4,
  "nbformat_minor": 0,
  "metadata": {
    "colab": {
      "provenance": [],
      "gpuType": "T4",
      "authorship_tag": "ABX9TyOG9B0l9HCrCPZlKj5fIPcW",
      "include_colab_link": true
    },
    "kernelspec": {
      "name": "python3",
      "display_name": "Python 3"
    },
    "language_info": {
      "name": "python"
    },
    "accelerator": "GPU"
  },
  "cells": [
    {
      "cell_type": "markdown",
      "metadata": {
        "id": "view-in-github",
        "colab_type": "text"
      },
      "source": [
        "<a href=\"https://colab.research.google.com/github/harryypham/MyMLPractice/blob/main/Autoencoder.ipynb\" target=\"_parent\"><img src=\"https://colab.research.google.com/assets/colab-badge.svg\" alt=\"Open In Colab\"/></a>"
      ]
    },
    {
      "cell_type": "code",
      "execution_count": null,
      "metadata": {
        "id": "wJnTKV44c-yc"
      },
      "outputs": [],
      "source": [
        "import numpy as np\n",
        "import matplotlib.pyplot as plt\n",
        "import torch\n",
        "import torch.nn as nn\n",
        "import torch.nn.functional as F\n",
        "import torch.optim as optim\n",
        "from torch.utils.data import DataLoader\n",
        "import torchvision\n",
        "import torchvision.transforms as transforms\n",
        "from torch.optim.lr_scheduler import ExponentialLR\n",
        "\n",
        "%matplotlib inline"
      ]
    },
    {
      "cell_type": "code",
      "source": [
        "batch_size = 64\n",
        "num_epochs = 20\n",
        "device = \"cuda:0\" if torch.cuda.is_available() else \"cpu\"\n",
        "\n",
        "train_transform = transforms.Compose([\n",
        "    transforms.RandomCrop((32, 32), padding=4),\n",
        "    transforms.RandomHorizontalFlip(),\n",
        "    transforms.ToTensor(),\n",
        "    transforms.Normalize(0.28604, 0.35302)\n",
        "])\n",
        "test_transform = transforms.Compose([\n",
        "    transforms.Resize((32, 32)),\n",
        "    transforms.ToTensor(),\n",
        "    transforms.Normalize(0.28604, 0.35302)\n",
        "])\n",
        "\n",
        "trainset = torchvision.datasets.FashionMNIST(\"/content/data\", train=True, download=True, transform=train_transform)\n",
        "testset = torchvision.datasets.FashionMNIST(\"/content/data\", train=False, download=True, transform=test_transform)\n",
        "trainloader = DataLoader(trainset, batch_size=batch_size, shuffle=True, num_workers=2)\n",
        "testloader = DataLoader(testset, batch_size=batch_size, num_workers=2)\n"
      ],
      "metadata": {
        "id": "ay95VMVSdn97",
        "colab": {
          "base_uri": "https://localhost:8080/"
        },
        "outputId": "ac38d93c-691d-45ef-b5a3-60f2e4ec5d6e"
      },
      "execution_count": null,
      "outputs": [
        {
          "output_type": "stream",
          "name": "stdout",
          "text": [
            "Downloading http://fashion-mnist.s3-website.eu-central-1.amazonaws.com/train-images-idx3-ubyte.gz\n",
            "Downloading http://fashion-mnist.s3-website.eu-central-1.amazonaws.com/train-images-idx3-ubyte.gz to /content/data/FashionMNIST/raw/train-images-idx3-ubyte.gz\n"
          ]
        },
        {
          "output_type": "stream",
          "name": "stderr",
          "text": [
            "100%|██████████| 26421880/26421880 [00:01<00:00, 14921590.20it/s]\n"
          ]
        },
        {
          "output_type": "stream",
          "name": "stdout",
          "text": [
            "Extracting /content/data/FashionMNIST/raw/train-images-idx3-ubyte.gz to /content/data/FashionMNIST/raw\n",
            "\n",
            "Downloading http://fashion-mnist.s3-website.eu-central-1.amazonaws.com/train-labels-idx1-ubyte.gz\n",
            "Downloading http://fashion-mnist.s3-website.eu-central-1.amazonaws.com/train-labels-idx1-ubyte.gz to /content/data/FashionMNIST/raw/train-labels-idx1-ubyte.gz\n"
          ]
        },
        {
          "output_type": "stream",
          "name": "stderr",
          "text": [
            "100%|██████████| 29515/29515 [00:00<00:00, 268846.37it/s]\n"
          ]
        },
        {
          "output_type": "stream",
          "name": "stdout",
          "text": [
            "Extracting /content/data/FashionMNIST/raw/train-labels-idx1-ubyte.gz to /content/data/FashionMNIST/raw\n",
            "\n",
            "Downloading http://fashion-mnist.s3-website.eu-central-1.amazonaws.com/t10k-images-idx3-ubyte.gz\n",
            "Downloading http://fashion-mnist.s3-website.eu-central-1.amazonaws.com/t10k-images-idx3-ubyte.gz to /content/data/FashionMNIST/raw/t10k-images-idx3-ubyte.gz\n"
          ]
        },
        {
          "output_type": "stream",
          "name": "stderr",
          "text": [
            "100%|██████████| 4422102/4422102 [00:00<00:00, 4974994.48it/s]\n"
          ]
        },
        {
          "output_type": "stream",
          "name": "stdout",
          "text": [
            "Extracting /content/data/FashionMNIST/raw/t10k-images-idx3-ubyte.gz to /content/data/FashionMNIST/raw\n",
            "\n",
            "Downloading http://fashion-mnist.s3-website.eu-central-1.amazonaws.com/t10k-labels-idx1-ubyte.gz\n",
            "Downloading http://fashion-mnist.s3-website.eu-central-1.amazonaws.com/t10k-labels-idx1-ubyte.gz to /content/data/FashionMNIST/raw/t10k-labels-idx1-ubyte.gz\n"
          ]
        },
        {
          "output_type": "stream",
          "name": "stderr",
          "text": [
            "100%|██████████| 5148/5148 [00:00<00:00, 5266409.02it/s]"
          ]
        },
        {
          "output_type": "stream",
          "name": "stdout",
          "text": [
            "Extracting /content/data/FashionMNIST/raw/t10k-labels-idx1-ubyte.gz to /content/data/FashionMNIST/raw\n",
            "\n"
          ]
        },
        {
          "output_type": "stream",
          "name": "stderr",
          "text": [
            "\n"
          ]
        }
      ]
    },
    {
      "cell_type": "code",
      "source": [
        "def get_mean_and_std(dataset, num_chans=3):\n",
        "  #Default: dataset has shape (b, h, w, c)\n",
        "  mean = np.zeros(3)\n",
        "  std = np.zeros(3)\n",
        "  for c in range(num_chans):\n",
        "    chans = dataset.data[:, :, :, c]\n",
        "    mean[c] = np.round(chans.mean() / 255, 5)\n",
        "    for idx in range(chans.shape[0]):\n",
        "      std[c] += np.std(chans[idx, :, :], ddof=1)\n",
        "    std[c] /= len(dataset) * 255\n",
        "    std[c] = round(std[c], 5)\n",
        "  return list(mean), list(std)\n",
        "\n",
        "def get_mean_and_std_MNIST(dataset):\n",
        "  dataset = dataset.data.numpy()\n",
        "  mean = np.round(dataset.mean() / 255, 5)\n",
        "  std = np.round(dataset.std() / 255, 5)\n",
        "  return mean, std\n",
        "\n",
        "print(trainset.data.shape)\n",
        "print(get_mean_and_std_MNIST(trainset))\n"
      ],
      "metadata": {
        "colab": {
          "base_uri": "https://localhost:8080/"
        },
        "id": "RM-oB4Hnfe80",
        "outputId": "a93e3d0d-3954-48d2-d9e3-19ed0f32765e"
      },
      "execution_count": null,
      "outputs": [
        {
          "output_type": "stream",
          "name": "stdout",
          "text": [
            "torch.Size([60000, 28, 28])\n",
            "(0.28604, 0.35302)\n"
          ]
        }
      ]
    },
    {
      "cell_type": "code",
      "source": [],
      "metadata": {
        "id": "BeNrnvl6HNM_"
      },
      "execution_count": null,
      "outputs": []
    },
    {
      "cell_type": "code",
      "source": [
        "class Encoder(nn.Module):\n",
        "  def __init__(self):\n",
        "    super(Encoder, self).__init__()\n",
        "    self.net = nn.Sequential(\n",
        "        nn.Conv2d(1, 16, kernel_size=3, stride=2, padding=1),\n",
        "        nn.ReLU(),\n",
        "        nn.Conv2d(16, 32, kernel_size=3, stride=2, padding=1),\n",
        "        nn.ReLU(),\n",
        "        nn.Conv2d(32, 64, kernel_size=3),\n",
        "        nn.ReLU(),\n",
        "        # nn.Conv2d(64, 128, kernel_size=3),\n",
        "        # nn.ReLU(),\n",
        "    )\n",
        "    self.fc = nn.Linear(64*6*6, 4)\n",
        "\n",
        "  def forward(self, x):\n",
        "    out = self.net(x)\n",
        "    out = out.view(out.size(0), -1)\n",
        "\n",
        "    out = self.fc(out)\n",
        "    return out"
      ],
      "metadata": {
        "id": "iVef7lAQmcpW"
      },
      "execution_count": null,
      "outputs": []
    },
    {
      "cell_type": "code",
      "source": [
        "class Decoder(nn.Module):\n",
        "  output_sizes = [(-1, 8, 8, 128), (-1, 16, 16, 64), (-1, 32, 32, 32)]\n",
        "  def __init__(self):\n",
        "    super(Decoder, self).__init__()\n",
        "    self.fc = nn.Linear(4, 64*6*6)\n",
        "    self.net = nn.Sequential(\n",
        "        # nn.ConvTranspose2d(256, 128, kernel_size=3, stride=2, padding=1, output_padding=1),\n",
        "        # nn.ReLU(),\n",
        "        # nn.ConvTranspose2d(128, 128, kernel_size=3, stride=2, padding=1, output_padding=1),\n",
        "        # nn.ReLU(),\n",
        "        # nn.ConvTranspose2d(128, 64, kernel_size=3, stride=2, padding=1, output_padding=1),\n",
        "        # nn.ReLU(),\n",
        "        # nn.ConvTranspose2d(128, 64, kernel_size=3),\n",
        "        # nn.ReLU(),\n",
        "        nn.ConvTranspose2d(64, 32, kernel_size=3),\n",
        "        nn.ReLU(),\n",
        "        nn.ConvTranspose2d(32, 16, kernel_size=3, stride=2, padding=1, output_padding=1),\n",
        "        nn.ReLU(),\n",
        "        nn.ConvTranspose2d(16, 1, kernel_size=3, stride=2, padding=1, output_padding=1),\n",
        "        nn.Sigmoid()\n",
        "        # nn.Sigmoid(),\n",
        "    )\n",
        "    self.conv1 = nn.Sequential(\n",
        "        nn.Conv2d(16, 1, kernel_size=3, stride=1, padding=1),\n",
        "        nn.Sigmoid()\n",
        "    )\n",
        "\n",
        "  def forward(self, x):\n",
        "    out = self.fc(x)\n",
        "    out = out.reshape((out.size(0), 64, 6, 6))\n",
        "    out = self.net(out)\n",
        "    # print(out.shape)\n",
        "    # out = self.conv1(out)\n",
        "    return out"
      ],
      "metadata": {
        "id": "Zk2L2wO76y9R"
      },
      "execution_count": null,
      "outputs": []
    },
    {
      "cell_type": "code",
      "source": [
        "# class Encoder(nn.Module):\n",
        "#     def __init__(self):\n",
        "#         super(Encoder, self).__init__()\n",
        "#         self.conv1 = nn.Conv2d(1, 8, kernel_size=(3,3))\n",
        "#         self.conv2 = nn.Conv2d(8, 16, kernel_size=(3,3))\n",
        "#         self.conv3 = nn.Conv2d(16, 32, kernel_size=(3,3))\n",
        "#         self.conv4 = nn.Conv2d(32, 64, kernel_size=(3,3))\n",
        "\n",
        "#     def forward(self, x):\n",
        "#         x = F.leaky_relu(self.conv1(x))\n",
        "#         x = F.leaky_relu(self.conv2(x))\n",
        "#         x = F.leaky_relu(self.conv3(x))\n",
        "#         x = F.leaky_relu(self.conv4(x))\n",
        "#         return x\n",
        "\n",
        "# class Decoder(nn.Module):\n",
        "#     def __init__(self):\n",
        "#         super(Decoder, self).__init__()\n",
        "#         self.conv1 = nn.ConvTranspose2d(64, 32, kernel_size=(3,3))\n",
        "#         self.conv2 = nn.ConvTranspose2d(32, 16, kernel_size=(3,3))\n",
        "#         self.conv3 = nn.ConvTranspose2d(16, 8, kernel_size=(3,3))\n",
        "#         self.conv4 = nn.ConvTranspose2d(8, 1, kernel_size=(3,3))\n",
        "#         self.sigmoid_activation = torch.nn.Sigmoid()\n",
        "\n",
        "#     def forward(self, x):\n",
        "#         x = F.leaky_relu(self.conv1(x))\n",
        "#         x = F.leaky_relu(self.conv2(x))\n",
        "#         x = F.leaky_relu(self.conv3(x))\n",
        "#         x = F.leaky_relu(self.conv4(x))\n",
        "#         x = self.sigmoid_activation(x)\n",
        "#         return x\n",
        "\n",
        "class Autoencoder(torch.nn.Module):\n",
        "    def __init__(self):\n",
        "        super(Autoencoder, self).__init__()\n",
        "        self.encoder = Encoder()\n",
        "        self.decoder = Decoder()\n",
        "\n",
        "    def forward(self, x):\n",
        "        x = self.encoder(x)\n",
        "        x = self.decoder(x)\n",
        "        return x"
      ],
      "metadata": {
        "id": "tEblYe1dZQZ5"
      },
      "execution_count": null,
      "outputs": []
    },
    {
      "cell_type": "code",
      "source": [
        "# encoder = Encoder()\n",
        "# decoder = Decoder()\n",
        "# encoder.to(device)\n",
        "# decoder.to(device)\n",
        "\n",
        "model = Autoencoder()\n",
        "model.to(device)\n",
        "\n",
        "criterion = nn.MSELoss()\n",
        "# encoder_optimizer = torch.optim.Adam(encoder.parameters(), lr=5e-4)\n",
        "# decoder_optimizer = torch.optim.Adam(decoder.parameters(), lr=5e-4)\n",
        "\n",
        "optimizer = torch.optim.Adam(model.parameters(), lr=5e-4)\n"
      ],
      "metadata": {
        "id": "orDQbAGnWbjh"
      },
      "execution_count": null,
      "outputs": []
    },
    {
      "cell_type": "code",
      "source": [
        "for epoch in range(num_epochs):\n",
        "    print(f'\\nEpoch {epoch+1}:')\n",
        "    train_loss = 0\n",
        "    correct = 0\n",
        "    total = 0\n",
        "\n",
        "    for batch_idx, (inputs, targets) in enumerate(trainloader):\n",
        "        # encoder.train()\n",
        "        # decoder.train()\n",
        "        model.train()\n",
        "        inputs, targets = inputs.to(device), targets.to(device)\n",
        "        # encoder_optimizer.zero_grad()\n",
        "        # decoder_optimizer.zero_grad()\n",
        "        # out_1 = encoder(inputs)\n",
        "        # outputs = decoder(out_1)\n",
        "        model.zero_grad()\n",
        "        outputs = model(inputs)\n",
        "        loss = criterion(outputs.view(outputs.size(0), -1), inputs.view(inputs.size(0), -1))\n",
        "        loss.backward()\n",
        "        # encoder_optimizer.step()\n",
        "        # decoder_optimizer.step()\n",
        "        optimizer.step()\n",
        "\n",
        "\n",
        "        with torch.no_grad():\n",
        "          train_loss += loss.item()\n",
        "\n",
        "          if (not batch_idx % 100) and batch_idx != 0:\n",
        "                print ('Batch %03d | Cost: %.9f'\n",
        "                      %(batch_idx, train_loss/(batch_idx+1)))\n",
        "\n",
        "\n",
        "#55 at beginning epoch 2, 52 at the end epoch 4\n",
        "#50 ..., 49 at the end epoch 4\n",
        "#52 ..., 50 at the end epoch 4"
      ],
      "metadata": {
        "colab": {
          "base_uri": "https://localhost:8080/",
          "height": 1000
        },
        "id": "EUSHjtUV-1a-",
        "outputId": "b8ca0037-46f4-40be-db8f-1ee52047439b"
      },
      "execution_count": null,
      "outputs": [
        {
          "output_type": "stream",
          "name": "stdout",
          "text": [
            "\n",
            "Epoch 1:\n",
            "Batch 100 | Cost: 0.950750357\n",
            "Batch 200 | Cost: 0.876106053\n",
            "Batch 300 | Cost: 0.838509119\n",
            "Batch 400 | Cost: 0.803617607\n",
            "Batch 500 | Cost: 0.772160306\n",
            "Batch 600 | Cost: 0.749801053\n",
            "Batch 700 | Cost: 0.732702917\n",
            "Batch 800 | Cost: 0.719347587\n",
            "Batch 900 | Cost: 0.708843650\n",
            "\n",
            "Epoch 2:\n",
            "Batch 100 | Cost: 0.620640228\n",
            "Batch 200 | Cost: 0.621357410\n",
            "Batch 300 | Cost: 0.620503378\n",
            "Batch 400 | Cost: 0.619952774\n",
            "Batch 500 | Cost: 0.618653321\n",
            "Batch 600 | Cost: 0.617758282\n",
            "Batch 700 | Cost: 0.617135153\n",
            "Batch 800 | Cost: 0.616233639\n",
            "Batch 900 | Cost: 0.615539167\n",
            "\n",
            "Epoch 3:\n",
            "Batch 100 | Cost: 0.607047201\n",
            "Batch 200 | Cost: 0.606985293\n",
            "Batch 300 | Cost: 0.606096537\n",
            "Batch 400 | Cost: 0.605694463\n",
            "Batch 500 | Cost: 0.604886774\n",
            "Batch 600 | Cost: 0.604382962\n",
            "Batch 700 | Cost: 0.604193569\n",
            "Batch 800 | Cost: 0.603675464\n",
            "Batch 900 | Cost: 0.603275852\n",
            "\n",
            "Epoch 4:\n",
            "Batch 100 | Cost: 0.600705154\n",
            "Batch 200 | Cost: 0.599405392\n",
            "Batch 300 | Cost: 0.598761747\n",
            "Batch 400 | Cost: 0.598446897\n",
            "Batch 500 | Cost: 0.598096802\n",
            "Batch 600 | Cost: 0.597695104\n",
            "Batch 700 | Cost: 0.597300835\n",
            "Batch 800 | Cost: 0.596765323\n",
            "Batch 900 | Cost: 0.596608474\n",
            "\n",
            "Epoch 5:\n",
            "Batch 100 | Cost: 0.592219457\n",
            "Batch 200 | Cost: 0.593337392\n",
            "Batch 300 | Cost: 0.592988356\n",
            "Batch 400 | Cost: 0.593167708\n",
            "Batch 500 | Cost: 0.592740884\n"
          ]
        },
        {
          "output_type": "error",
          "ename": "KeyboardInterrupt",
          "evalue": "",
          "traceback": [
            "\u001b[0;31m---------------------------------------------------------------------------\u001b[0m",
            "\u001b[0;31mKeyboardInterrupt\u001b[0m                         Traceback (most recent call last)",
            "\u001b[0;32m<ipython-input-23-a3a589ad38ac>\u001b[0m in \u001b[0;36m<cell line: 1>\u001b[0;34m()\u001b[0m\n\u001b[1;32m     17\u001b[0m         \u001b[0moutputs\u001b[0m \u001b[0;34m=\u001b[0m \u001b[0mmodel\u001b[0m\u001b[0;34m(\u001b[0m\u001b[0minputs\u001b[0m\u001b[0;34m)\u001b[0m\u001b[0;34m\u001b[0m\u001b[0;34m\u001b[0m\u001b[0m\n\u001b[1;32m     18\u001b[0m         \u001b[0mloss\u001b[0m \u001b[0;34m=\u001b[0m \u001b[0mcriterion\u001b[0m\u001b[0;34m(\u001b[0m\u001b[0moutputs\u001b[0m\u001b[0;34m.\u001b[0m\u001b[0mview\u001b[0m\u001b[0;34m(\u001b[0m\u001b[0moutputs\u001b[0m\u001b[0;34m.\u001b[0m\u001b[0msize\u001b[0m\u001b[0;34m(\u001b[0m\u001b[0;36m0\u001b[0m\u001b[0;34m)\u001b[0m\u001b[0;34m,\u001b[0m \u001b[0;34m-\u001b[0m\u001b[0;36m1\u001b[0m\u001b[0;34m)\u001b[0m\u001b[0;34m,\u001b[0m \u001b[0minputs\u001b[0m\u001b[0;34m.\u001b[0m\u001b[0mview\u001b[0m\u001b[0;34m(\u001b[0m\u001b[0minputs\u001b[0m\u001b[0;34m.\u001b[0m\u001b[0msize\u001b[0m\u001b[0;34m(\u001b[0m\u001b[0;36m0\u001b[0m\u001b[0;34m)\u001b[0m\u001b[0;34m,\u001b[0m \u001b[0;34m-\u001b[0m\u001b[0;36m1\u001b[0m\u001b[0;34m)\u001b[0m\u001b[0;34m)\u001b[0m\u001b[0;34m\u001b[0m\u001b[0;34m\u001b[0m\u001b[0m\n\u001b[0;32m---> 19\u001b[0;31m         \u001b[0mloss\u001b[0m\u001b[0;34m.\u001b[0m\u001b[0mbackward\u001b[0m\u001b[0;34m(\u001b[0m\u001b[0;34m)\u001b[0m\u001b[0;34m\u001b[0m\u001b[0;34m\u001b[0m\u001b[0m\n\u001b[0m\u001b[1;32m     20\u001b[0m         \u001b[0;31m# encoder_optimizer.step()\u001b[0m\u001b[0;34m\u001b[0m\u001b[0;34m\u001b[0m\u001b[0m\n\u001b[1;32m     21\u001b[0m         \u001b[0;31m# decoder_optimizer.step()\u001b[0m\u001b[0;34m\u001b[0m\u001b[0;34m\u001b[0m\u001b[0m\n",
            "\u001b[0;32m/usr/local/lib/python3.10/dist-packages/torch/_tensor.py\u001b[0m in \u001b[0;36mbackward\u001b[0;34m(self, gradient, retain_graph, create_graph, inputs)\u001b[0m\n\u001b[1;32m    520\u001b[0m                 \u001b[0minputs\u001b[0m\u001b[0;34m=\u001b[0m\u001b[0minputs\u001b[0m\u001b[0;34m,\u001b[0m\u001b[0;34m\u001b[0m\u001b[0;34m\u001b[0m\u001b[0m\n\u001b[1;32m    521\u001b[0m             )\n\u001b[0;32m--> 522\u001b[0;31m         torch.autograd.backward(\n\u001b[0m\u001b[1;32m    523\u001b[0m             \u001b[0mself\u001b[0m\u001b[0;34m,\u001b[0m \u001b[0mgradient\u001b[0m\u001b[0;34m,\u001b[0m \u001b[0mretain_graph\u001b[0m\u001b[0;34m,\u001b[0m \u001b[0mcreate_graph\u001b[0m\u001b[0;34m,\u001b[0m \u001b[0minputs\u001b[0m\u001b[0;34m=\u001b[0m\u001b[0minputs\u001b[0m\u001b[0;34m\u001b[0m\u001b[0;34m\u001b[0m\u001b[0m\n\u001b[1;32m    524\u001b[0m         )\n",
            "\u001b[0;32m/usr/local/lib/python3.10/dist-packages/torch/autograd/__init__.py\u001b[0m in \u001b[0;36mbackward\u001b[0;34m(tensors, grad_tensors, retain_graph, create_graph, grad_variables, inputs)\u001b[0m\n\u001b[1;32m    264\u001b[0m     \u001b[0;31m# some Python versions print out the first line of a multi-line function\u001b[0m\u001b[0;34m\u001b[0m\u001b[0;34m\u001b[0m\u001b[0m\n\u001b[1;32m    265\u001b[0m     \u001b[0;31m# calls in the traceback and some print out the last line\u001b[0m\u001b[0;34m\u001b[0m\u001b[0;34m\u001b[0m\u001b[0m\n\u001b[0;32m--> 266\u001b[0;31m     Variable._execution_engine.run_backward(  # Calls into the C++ engine to run the backward pass\n\u001b[0m\u001b[1;32m    267\u001b[0m         \u001b[0mtensors\u001b[0m\u001b[0;34m,\u001b[0m\u001b[0;34m\u001b[0m\u001b[0;34m\u001b[0m\u001b[0m\n\u001b[1;32m    268\u001b[0m         \u001b[0mgrad_tensors_\u001b[0m\u001b[0;34m,\u001b[0m\u001b[0;34m\u001b[0m\u001b[0;34m\u001b[0m\u001b[0m\n",
            "\u001b[0;31mKeyboardInterrupt\u001b[0m: "
          ]
        }
      ]
    },
    {
      "cell_type": "code",
      "source": [
        "encoder = model.encoder()"
      ],
      "metadata": {
        "id": "B9GzGNrUyIug"
      },
      "execution_count": null,
      "outputs": []
    },
    {
      "cell_type": "code",
      "source": [
        "\n",
        "i = 5\n",
        "x, y = next(iter(trainloader))\n",
        "# outputs = decoder(encoder(x.to(device)))\n",
        "outputs = model(x.to(device))\n",
        "plt.imshow(x.numpy()[i][0], cmap='gray')\n",
        "plt.show()\n",
        "plt.imshow(outputs.cpu().detach().numpy()[i][0], cmap='gray')"
      ],
      "metadata": {
        "colab": {
          "base_uri": "https://localhost:8080/",
          "height": 861
        },
        "id": "yeA_omjxJRqc",
        "outputId": "0e5a54c1-77f5-4620-d794-45a79b4960f0"
      },
      "execution_count": null,
      "outputs": [
        {
          "output_type": "display_data",
          "data": {
            "text/plain": [
              "<Figure size 640x480 with 1 Axes>"
            ],
            "image/png": "[encoded data removed]"
          },
          "metadata": {}
        },
        {
          "output_type": "execute_result",
          "data": {
            "text/plain": [
              "<matplotlib.image.AxesImage at 0x7b343a345c90>"
            ]
          },
          "metadata": {},
          "execution_count": 54
        },
        {
          "output_type": "display_data",
          "data": {
            "text/plain": [
              "<Figure size 640x480 with 1 Axes>"
            ],
            "image/png": "[encoded data removed]"
          },
          "metadata": {}
        }
      ]
    },
    {
      "cell_type": "code",
      "source": [
        "input = torch.randn(3, 5, requires_grad=True)\n",
        "target = torch.randn(3, 5).softmax(dim=1)\n",
        "print(input.shape)\n",
        "print(target.shape)\n",
        "criterion1 = nn.CrossEntropyLoss()\n",
        "loss = criterion1(input, target)\n",
        "print(loss)\n",
        "loss.backward()"
      ],
      "metadata": {
        "colab": {
          "base_uri": "https://localhost:8080/"
        },
        "id": "BEpnlYuhSVEi",
        "outputId": "e572e684-3d9a-4941-bd49-c4daae70f278"
      },
      "execution_count": null,
      "outputs": [
        {
          "output_type": "stream",
          "name": "stdout",
          "text": [
            "torch.Size([3, 5])\n",
            "torch.Size([3, 5])\n",
            "tensor(1.9569, grad_fn=<DivBackward1>)\n"
          ]
        }
      ]
    }
  ]
}