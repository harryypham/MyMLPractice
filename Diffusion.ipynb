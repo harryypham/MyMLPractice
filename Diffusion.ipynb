{
  "nbformat": 4,
  "nbformat_minor": 0,
  "metadata": {
    "colab": {
      "provenance": [],
      "authorship_tag": "ABX9TyOvXBRYR4PnZkZVKeWkhDLj",
      "include_colab_link": true
    },
    "kernelspec": {
      "name": "python3",
      "display_name": "Python 3"
    },
    "language_info": {
      "name": "python"
    }
  },
  "cells": [
    {
      "cell_type": "markdown",
      "metadata": {
        "id": "view-in-github",
        "colab_type": "text"
      },
      "source": [
        "<a href=\"https://colab.research.google.com/github/harryypham/MyMLPractice/blob/main/Diffusion.ipynb\" target=\"_parent\"><img src=\"https://colab.research.google.com/assets/colab-badge.svg\" alt=\"Open In Colab\"/></a>"
      ]
    },
    {
      "cell_type": "code",
      "source": [
        "import os\n",
        "import numpy as np\n",
        "import matplotlib.pyplot as plt\n",
        "import torch\n",
        "import torch.nn as nn\n",
        "import torch.optim as optim\n",
        "from tqdm import tqdm\n",
        "import logging\n",
        "from torch.utils.tensorboard import SummaryWriter\n"
      ],
      "metadata": {
        "id": "50ikWtx3Gqo9"
      },
      "execution_count": null,
      "outputs": []
    },
    {
      "cell_type": "code",
      "source": [
        "logging.basicConfig(format=\"%(asctime)s - %(levelname)s: %(message)s\", level=logging.INFO, datefmt=\"%I:%M:%S\" )"
      ],
      "metadata": {
        "id": "RkDuJAwgHMpj"
      },
      "execution_count": null,
      "outputs": []
    },
    {
      "cell_type": "code",
      "source": [
        "class Diffusion:\n",
        "  def __init__(self, noise_steps=1000, beta_start=1e-4, beta_end=0.02, img_size=64, device):\n",
        "    self.noise_steps = noise_steps\n",
        "    self.beta_start = beta_start\n",
        "    self.beta_end = beta_end\n",
        "    self.img_size = img_size\n",
        "    self.device = device\n",
        "\n",
        "    self.beta = self.prepare_noise_schedule().to(device)\n",
        "    self.alpha = 1. - self.beta\n",
        "    self.alpha_hat = torch.cumprod(self.alpha, dim=0)\n",
        "\n",
        "  def prepare_noise_schedule(self):\n",
        "    return torch.linspace(self.beta_start, self.beta_end, self.noise_steps)\n",
        "\n",
        "\n",
        "  def noise_image(self, x, t):\n",
        "    sqrt_alpha_hat = torch.sqrt(self.alpha_hat[t])[:, None, None, None]\n",
        "    sqrt_one_mminus_alpha_hat = torch.sqrt(1 - self.alpha_hat[t])[:, None, None, None]\n",
        "    epsilon = torch.random_like(x)\n",
        "    return sqrt_alpha_hat * x + sqrt_one_minus_alpha_hat * epsilon, epsilon\n",
        "\n",
        "  def sample_timesteps(self, n):\n",
        "    return torch.randint(low=1, high=self.noise_steps, size=(n,))\n",
        "\n",
        "  def sample(self, model, n):\n",
        "    logging.info(f\"Sampling {n} new images...\")\n",
        "    model.eval()\n",
        "    with torch.no_grad():\n",
        "      x = torch.randn((n, 3, self.image_size, self.image_size)).to(self.device)\n",
        "      for i in tqdm(reversed(range(1, self.noise_steps)), position=0):\n",
        "        t = (torch.ones(n) * i).long().to(self.device)\n",
        "        predicted_noise = model(x, t)\n",
        "        alpha = self.alpha[t][:, None, None, None]\n",
        "        alpha_hat = self.alpha_hat[t][:, None, None, None]\n",
        "        beta = self.beta[t][:, None, None, None]\n",
        "        if i > 1:\n",
        "          noise = torch.randn_like(x)\n",
        "        else:\n",
        "          noise = torch.zeros_like(x)\n",
        "        x = 1 / torch.sqrt(alpha) * (x - ((1 - alpha) / (torch.sqrt(1 - alpha_hat))) * predicted_noise) + torch.sqrt(beta) * noise\n",
        "      model.train()\n",
        "      x = (x.clamp(-1, 1) + 1) / 2\n",
        "      x = (x * 255).type(torch.unit8)\n",
        "      return x"
      ],
      "metadata": {
        "id": "9eSSwsKCH2xr"
      },
      "execution_count": null,
      "outputs": []
    },
    {
      "cell_type": "code",
      "source": [
        "class UNet(nn.Module):\n",
        "  def __init__(self, c_in=3, c_out=3, time_dim=256, device=\"cpu\"):\n",
        "    super().__init__()\n",
        "    self.device = device\n",
        "    self.time_dim = time_dim\n",
        "    self.inc = DoubleConv(c_in, 64)\n",
        "    self.down1 = Down(64, 128)\n",
        "    self.sa1 = SelfAttention(128, 32)\n",
        "    self.down2 = Down(128, 256)\n",
        "    self.sa2 = SelfAttention(256, 16)\n",
        "    self.down3 = Down(256, 256)\n",
        "    self.sa3 = SelfAttention(256, 8)\n",
        "\n",
        "    self.conv1 = DoubleConv(256, 512)\n",
        "    self.conv2 = DoubleConv(512, 512)\n",
        "    self.conv3 = DoubleConv(512, 256)\n",
        "\n",
        "    self.up1 = Up(512, 128)\n",
        "    self.sa4 = SelfAttention(128, 16)\n",
        "    self.up2 = Up(256, 64)\n",
        "    self.sa5 = SelfAttention(64, 32)\n",
        "    self.up3 = Up(128, 64)\n",
        "    self.sa6 = SelfAttention(64, 64)\n",
        "    self.outc = nn.Conv2d(64, c_out, 1)\n",
        "\n",
        "  def pos_encoding(self, t, channels):\n",
        "    inv_freq = 1.0 / (\n",
        "        10000\n",
        "        ** (torch.arange(0, channels, 2, device=self.device).float() / channels)\n",
        "    )\n",
        "    pos_enc_a = torch.sin(t.repeat(1, channels // 2) * inv_freq)\n",
        "    pos_enc_b = torch.sin(t.repeat(1, channels // 2) * inv_freq)\n",
        "    pos_enc = torch.cat([pos_enc_a, pos_enc_b], dim=-1)\n",
        "    return pos_enc\n"
      ],
      "metadata": {
        "id": "bOZRqSB6zUS1"
      },
      "execution_count": null,
      "outputs": []
    }
  ]
}