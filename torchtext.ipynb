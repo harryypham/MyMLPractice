{
  "nbformat": 4,
  "nbformat_minor": 0,
  "metadata": {
    "colab": {
      "provenance": [],
      "authorship_tag": "ABX9TyNiuHlgHEn6Btc+OA2CTe9N",
      "include_colab_link": true
    },
    "kernelspec": {
      "name": "python3",
      "display_name": "Python 3"
    },
    "language_info": {
      "name": "python"
    }
  },
  "cells": [
    {
      "cell_type": "markdown",
      "metadata": {
        "id": "view-in-github",
        "colab_type": "text"
      },
      "source": [
        "<a href=\"https://colab.research.google.com/github/harryypham/MyMLPractice/blob/main/torchtext.ipynb\" target=\"_parent\"><img src=\"https://colab.research.google.com/assets/colab-badge.svg\" alt=\"Open In Colab\"/></a>"
      ]
    },
    {
      "cell_type": "code",
      "execution_count": 5,
      "metadata": {
        "id": "SRTSGmRW1rHR"
      },
      "outputs": [],
      "source": [
        "import numpy as np\n",
        "import torch\n",
        "import torch.nn as nn\n",
        "import torch.optim as optim\n",
        "import torch.nn.functional as F\n",
        "import torchtext\n",
        "import torchtext.transforms as T\n",
        "from torchtext.vocab import build_vocab_from_iterator\n",
        "from torch.utils.data import DataLoader\n",
        "import spacy"
      ]
    },
    {
      "cell_type": "code",
      "source": [
        "from torchtext.datasets import AG_NEWS\n",
        "\n",
        "spacy_eng = spacy.load(\"en_core_web_sm\")\n",
        "\n",
        "def eng_tokenize(text):\n",
        "  return [tok.text for tok in spacy_eng.tokenizer(text)]\n",
        "\n",
        "def getTokens(data_iter):\n",
        "  for label, text in data_iter:\n",
        "    yield eng_tokenize(text)\n",
        "\n",
        "\n",
        "train_iter = AG_NEWS(split=\"train\")\n",
        "\n",
        "source_vocab = build_vocab_from_iterator(\n",
        "    getTokens(train_iter),\n",
        "    min_freq=2,\n",
        "    specials= ['<pad>', '<sos>', '<eos>', '<unk>'],\n",
        "    special_first=True\n",
        ")\n",
        "source_vocab.set_default_index(source_vocab['<unk>'])\n",
        "\n",
        "def getTransform(vocab):\n",
        "    text_tranform = T.Sequential(\n",
        "        ## converts the sentences to indices based on given vocabulary\n",
        "        T.VocabTransform(vocab=vocab),\n",
        "        ## Add <sos> at beginning of each sentence. 1 because the index for <sos> in vocabulary is\n",
        "        # 1 as seen in previous section\n",
        "        T.AddToken(1, begin=True),\n",
        "        ## Add <eos> at beginning of each sentence. 2 because the index for <eos> in vocabulary is\n",
        "        # 2 as seen in previous section\n",
        "        T.AddToken(2, begin=False)\n",
        "    )\n",
        "    return text_tranform"
      ],
      "metadata": {
        "id": "e_pDauAk5KET"
      },
      "execution_count": 13,
      "outputs": []
    },
    {
      "cell_type": "code",
      "source": [
        "temp_list = list(train_iter)\n",
        "some_sentence = temp_list[798][1]\n",
        "print(\"Some sentence=\", end=\"\")\n",
        "print(some_sentence)\n",
        "transformed_sentence = getTransform(source_vocab)(eng_tokenize(some_sentence))\n",
        "print(\"Transformed sentence=\", end=\"\")\n",
        "print(transformed_sentence)\n",
        "index_to_string = source_vocab.get_itos()\n",
        "for index in transformed_sentence:\n",
        "    print(index_to_string[index], end=\" \")"
      ],
      "metadata": {
        "colab": {
          "base_uri": "https://localhost:8080/"
        },
        "id": "3WHZy6E13g38",
        "outputId": "3c50ebee-b227-450f-f3f1-93a5a16b50c1"
      },
      "execution_count": 14,
      "outputs": [
        {
          "output_type": "stream",
          "name": "stdout",
          "text": [
            "Some sentence=Why cyberscofflaws get off easy CNET News.com's Declan McCullagh explains why convicted virus and worm authors are more likely to do Club Fed than hard time.\n",
            "Transformed sentence=[1, 3714, 3, 242, 114, 1784, 7826, 6382, 25, 42153, 53346, 10077, 1748, 2931, 1547, 12, 2628, 12659, 48, 56, 640, 7, 372, 1874, 1384, 71, 763, 96, 6, 2]\n",
            "<sos> Why <unk> get off easy CNET News.com 's Declan McCullagh explains why convicted virus and worm authors are more likely to do Club Fed than hard time . <eos> "
          ]
        }
      ]
    },
    {
      "cell_type": "code",
      "source": [],
      "metadata": {
        "id": "7oPlv7kNEdgq"
      },
      "execution_count": null,
      "outputs": []
    }
  ]
}