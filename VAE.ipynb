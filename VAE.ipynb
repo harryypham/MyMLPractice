{
  "nbformat": 4,
  "nbformat_minor": 0,
  "metadata": {
    "colab": {
      "provenance": [],
      "gpuType": "T4",
      "authorship_tag": "ABX9TyNZ9fbS6dCE9VWefNV7fWeH",
      "include_colab_link": true
    },
    "kernelspec": {
      "name": "python3",
      "display_name": "Python 3"
    },
    "language_info": {
      "name": "python"
    },
    "accelerator": "GPU"
  },
  "cells": [
    {
      "cell_type": "markdown",
      "metadata": {
        "id": "view-in-github",
        "colab_type": "text"
      },
      "source": [
        "<a href=\"https://colab.research.google.com/github/harryypham/MyMLPractice/blob/main/VAE.ipynb\" target=\"_parent\"><img src=\"https://colab.research.google.com/assets/colab-badge.svg\" alt=\"Open In Colab\"/></a>"
      ]
    },
    {
      "cell_type": "code",
      "execution_count": 1,
      "metadata": {
        "id": "weVnFlJ1ralz"
      },
      "outputs": [],
      "source": [
        "import numpy as np\n",
        "import matplotlib.pyplot as plt\n",
        "import torch\n",
        "import torch.nn as nn\n",
        "import torch.optim as optim\n",
        "import torch.nn.functional as F\n",
        "import torchvision\n",
        "import torchvision.transforms as transforms\n",
        "from torch.utils.data import DataLoader\n",
        "\n",
        "%matplotlib inline"
      ]
    },
    {
      "cell_type": "code",
      "source": [
        "batch_size = 64\n",
        "\n",
        "train_transform = transforms.Compose([\n",
        "    transforms.Resize((32, 32)),\n",
        "    transforms.RandomHorizontalFlip(),\n",
        "    transforms.ToTensor(),\n",
        "    transforms.Normalize(0.28604, 0.35302)\n",
        "])\n",
        "test_transform = transforms.Compose([\n",
        "    transforms.Resize((32, 32)),\n",
        "    transforms.ToTensor(),\n",
        "    transforms.Normalize(0.28604, 0.35302)\n",
        "])\n",
        "\n",
        "trainset = torchvision.datasets.FashionMNIST(\"/content/data\", train=True, download=True, transform=train_transform)\n",
        "testset = torchvision.datasets.FashionMNIST(\"/content/data\", train=False, download=True, transform=test_transform)\n",
        "trainloader = DataLoader(trainset, batch_size=batch_size, shuffle=True, num_workers=2)\n",
        "testloader = DataLoader(testset, batch_size=batch_size, num_workers=2)"
      ],
      "metadata": {
        "id": "VLOgDvwEr6Hn"
      },
      "execution_count": 86,
      "outputs": []
    },
    {
      "cell_type": "code",
      "source": [
        "class Encoder(nn.Module):\n",
        "  def __init__(self, dims):\n",
        "    super(Encoder, self).__init__()\n",
        "    self.conv_net = nn.Sequential(\n",
        "        nn.Conv2d(1, 32, kernel_size=3, stride=2, padding=1),\n",
        "        nn.ReLU(),\n",
        "        nn.Conv2d(32, 64, kernel_size=3, stride=2, padding=1),\n",
        "        nn.ReLU(),\n",
        "        nn.Conv2d(64, 128, kernel_size=3, stride=2, padding=1),\n",
        "        nn.ReLU(),\n",
        "    )\n",
        "    self.mean = nn.Linear(2048, dims)\n",
        "    self.log_var = nn.Linear(2048, dims)\n",
        "    self.N = torch.distributions.Normal(0, 1)\n",
        "    self.loss = 0\n",
        "\n",
        "  def forward(self, x):\n",
        "    out = self.conv_net(x)\n",
        "    out = out.view(out.size(0), -1)\n",
        "\n",
        "    z_mean = self.mean(out)\n",
        "    z_log_var = self.log_var(out)\n",
        "    z_sigma = torch.exp(z_log_var * 0.5)\n",
        "\n",
        "    #Sampling\n",
        "    epsilon = self.N.sample(z_mean.shape).to(device)\n",
        "    z = z_mean + z_sigma*epsilon\n",
        "\n",
        "    #KL Loss\n",
        "    loss =  -0.5 * (1 + z_log_var - z_mean**2 - torch.exp(z_log_var)).sum()\n",
        "    return z\n",
        "\n",
        "\n",
        "class Decoder(nn.Module):\n",
        "  def __init__(self, dims):\n",
        "    super(Decoder, self).__init__()\n",
        "    self.fc = nn.Linear(dims, 2048)\n",
        "    self.net = nn.Sequential(\n",
        "        nn.ConvTranspose2d(128, 128, kernel_size=3, stride=2, padding=1, output_padding=1),\n",
        "        nn.ReLU(),\n",
        "        nn.ConvTranspose2d(128, 64, kernel_size=3, stride=2, padding=1, output_padding=1),\n",
        "        nn.ReLU(),\n",
        "        nn.ConvTranspose2d(64, 32, kernel_size=3, stride=2, padding=1, output_padding=1),\n",
        "        nn.ReLU(),\n",
        "\n",
        "    )\n",
        "    self.conv1 = nn.Sequential(\n",
        "        nn.Conv2d(32, 1, kernel_size=3, stride=1, padding=1),\n",
        "        nn.Sigmoid()\n",
        "    )\n",
        "\n",
        "  def forward(self, x):\n",
        "    out = self.fc(x)\n",
        "    out = out.reshape((out.size(0), 128, 4, 4))\n",
        "    out = self.net(out)\n",
        "    out = self.conv1(out)\n",
        "    return out\n",
        "\n",
        "class VAE(nn.Module):\n",
        "  def __init__(self, dims):\n",
        "    super(VAE, self).__init__()\n",
        "    self.encoder = Encoder(dims)\n",
        "    self.decoder = Decoder(dims)\n",
        "\n",
        "  def forward(self, x):\n",
        "    z = self.encoder(x)\n",
        "    out = self.decoder(z)\n",
        "    return out\n",
        "\n",
        ""
      ],
      "metadata": {
        "id": "xsAl1083sJzl"
      },
      "execution_count": 87,
      "outputs": []
    },
    {
      "cell_type": "code",
      "source": [
        "def train(model, dataloader, opt, criterion, num_epochs=5, device=\"cpu\"):\n",
        "  for epoch in range(num_epochs):\n",
        "    print(f'\\nEpoch {epoch+1}:')\n",
        "    train_loss = 0\n",
        "    for batch_idx, (inputs, targets) in enumerate(dataloader):\n",
        "      inputs = inputs.to(device)\n",
        "      opt.zero_grad()\n",
        "      outputs = model(inputs)\n",
        "      loss = criterion(outputs, inputs) + model.encoder.loss\n",
        "      loss.backward()\n",
        "      opt.step()\n",
        "\n",
        "      with torch.no_grad():\n",
        "        train_loss += loss.item()\n",
        "        if (not batch_idx % 100) and batch_idx != 0:\n",
        "                print ('Batch %03d | Cost: %.6f'\n",
        "                      %(batch_idx, train_loss/(batch_idx+1)))\n",
        "  return model"
      ],
      "metadata": {
        "id": "pcobhuYN1W0K"
      },
      "execution_count": 88,
      "outputs": []
    },
    {
      "cell_type": "code",
      "source": [
        "device = \"cuda:0\" if torch.cuda.is_available() else \"cpu\"\n",
        "\n",
        "model = Encoder(2)\n",
        "model.to(device)\n",
        "x = torch.rand((1, 1, 32, 32)).to(device)\n",
        "out = model(x)\n",
        "print(out.shape)"
      ],
      "metadata": {
        "colab": {
          "base_uri": "https://localhost:8080/"
        },
        "id": "0tcQWQt0x5gg",
        "outputId": "b1344d5a-098c-4080-d177-45fb5122c6a1"
      },
      "execution_count": 5,
      "outputs": [
        {
          "output_type": "stream",
          "name": "stdout",
          "text": [
            "torch.Size([1, 2])\n"
          ]
        }
      ]
    },
    {
      "cell_type": "code",
      "source": [
        "model = VAE(20)\n",
        "model.to(device)\n",
        "optimizer = optim.Adam(model.parameters())\n",
        "criterion = nn.MSELoss()\n",
        "\n",
        "trained_model = train(model, trainloader, optimizer, criterion, device=device)\n",
        "\n"
      ],
      "metadata": {
        "colab": {
          "base_uri": "https://localhost:8080/"
        },
        "id": "Led8qDYb0t_b",
        "outputId": "aa349188-ca49-4bd9-f5db-95a3e11b0cb8"
      },
      "execution_count": 89,
      "outputs": [
        {
          "output_type": "stream",
          "name": "stdout",
          "text": [
            "\n",
            "Epoch 1:\n",
            "Batch 100 | Cost: 0.781789\n",
            "Batch 200 | Cost: 0.646123\n",
            "Batch 300 | Cost: 0.591186\n",
            "Batch 400 | Cost: 0.559842\n",
            "Batch 500 | Cost: 0.539672\n",
            "Batch 600 | Cost: 0.525542\n",
            "Batch 700 | Cost: 0.514794\n",
            "Batch 800 | Cost: 0.506132\n",
            "Batch 900 | Cost: 0.498921\n",
            "\n",
            "Epoch 2:\n",
            "Batch 100 | Cost: 0.440609\n",
            "Batch 200 | Cost: 0.438657\n",
            "Batch 300 | Cost: 0.438700\n",
            "Batch 400 | Cost: 0.438624\n",
            "Batch 500 | Cost: 0.438034\n",
            "Batch 600 | Cost: 0.437802\n",
            "Batch 700 | Cost: 0.437299\n",
            "Batch 800 | Cost: 0.436953\n",
            "Batch 900 | Cost: 0.436508\n",
            "\n",
            "Epoch 3:\n",
            "Batch 100 | Cost: 0.434398\n",
            "Batch 200 | Cost: 0.433272\n",
            "Batch 300 | Cost: 0.432593\n",
            "Batch 400 | Cost: 0.432227\n",
            "Batch 500 | Cost: 0.432104\n",
            "Batch 600 | Cost: 0.432184\n",
            "Batch 700 | Cost: 0.432093\n",
            "Batch 800 | Cost: 0.431530\n",
            "Batch 900 | Cost: 0.431166\n",
            "\n",
            "Epoch 4:\n",
            "Batch 100 | Cost: 0.429973\n",
            "Batch 200 | Cost: 0.429945\n",
            "Batch 300 | Cost: 0.429594\n",
            "Batch 400 | Cost: 0.429620\n",
            "Batch 500 | Cost: 0.429685\n",
            "Batch 600 | Cost: 0.429528\n",
            "Batch 700 | Cost: 0.429126\n",
            "Batch 800 | Cost: 0.429184\n",
            "Batch 900 | Cost: 0.429144\n",
            "\n",
            "Epoch 5:\n",
            "Batch 100 | Cost: 0.427521\n",
            "Batch 200 | Cost: 0.427459\n",
            "Batch 300 | Cost: 0.427681\n",
            "Batch 400 | Cost: 0.427840\n",
            "Batch 500 | Cost: 0.427762\n",
            "Batch 600 | Cost: 0.427645\n",
            "Batch 700 | Cost: 0.427696\n",
            "Batch 800 | Cost: 0.427623\n",
            "Batch 900 | Cost: 0.427557\n"
          ]
        }
      ]
    },
    {
      "cell_type": "code",
      "source": [
        "class UnNormalize(object):\n",
        "    def __init__(self, mean, std):\n",
        "        self.mean = mean\n",
        "        self.std = std\n",
        "\n",
        "    def __call__(self, tensor):\n",
        "        \"\"\"\n",
        "        Args:\n",
        "            tensor (Tensor): Tensor image of size (C, H, W) to be normalized.\n",
        "        Returns:\n",
        "            Tensor: Normalized image.\n",
        "        \"\"\"\n",
        "        for t, m, s in zip(tensor, self.mean, self.std):\n",
        "            t.mul_(s).add_(m)\n",
        "            # The normalize code -> t.sub_(m).div_(s)\n",
        "        return tensor"
      ],
      "metadata": {
        "id": "ehEnMEtj7WVf"
      },
      "execution_count": 37,
      "outputs": []
    },
    {
      "cell_type": "code",
      "source": [
        "\n",
        "i = 1\n",
        "unnormalizer = UnNormalize([0.28604], [0.35302])\n",
        "x, _ = next(iter(trainloader))\n",
        "outputs = model(x.to(device))\n",
        "x_unnorm = unnormalizer(x[i])\n",
        "outputs = unnormalizer(outputs[i].cpu().detach())\n",
        "\n",
        "plt.imshow(x_unnorm.numpy()[0], cmap='gray')\n",
        "plt.show()\n",
        "plt.imshow(outputs.numpy()[0], cmap='gray')\n",
        ""
      ],
      "metadata": {
        "colab": {
          "base_uri": "https://localhost:8080/",
          "height": 861
        },
        "id": "jKJ4ksTn3aDn",
        "outputId": "0e371adb-e912-4506-ff6f-e4b368b44c20"
      },
      "execution_count": 96,
      "outputs": [
        {
          "output_type": "display_data",
          "data": {
            "text/plain": [
              "<Figure size 640x480 with 1 Axes>"
            ],
            "image/png": "[encoded data removed]"
          },
          "metadata": {}
        },
        {
          "output_type": "execute_result",
          "data": {
            "text/plain": [
              "<matplotlib.image.AxesImage at 0x7cca94b83850>"
            ]
          },
          "metadata": {},
          "execution_count": 96
        },
        {
          "output_type": "display_data",
          "data": {
            "text/plain": [
              "<Figure size 640x480 with 1 Axes>"
            ],
            "image/png": "[encoded data removed]"
          },
          "metadata": {}
        }
      ]
    },
    {
      "cell_type": "code",
      "source": [],
      "metadata": {
        "id": "o3jImHKlCjKF"
      },
      "execution_count": null,
      "outputs": []
    }
  ]
}